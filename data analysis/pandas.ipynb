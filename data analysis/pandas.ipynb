{
 "cells": [
  {
   "cell_type": "code",
   "execution_count": null,
   "metadata": {},
   "outputs": [],
   "source": [
    "!pip install pandas"
   ]
  },
  {
   "cell_type": "markdown",
   "metadata": {},
   "source": [
    "# pandas for analysis\n",
    "- datasets\n",
    "  - dictionary of items\n",
    "  - list of dictionary\n",
    "  - csv file\n",
    "  - excel file\n",
    "  - json file\n",
    "  - sql connection\n",
    "- creating dataframe\n",
    "- reading data \n",
    "- selection of data\n",
    "- manipulating data\n",
    "- cleaning data\n",
    "- visualizing data"
   ]
  },
  {
   "cell_type": "code",
   "execution_count": null,
   "metadata": {},
   "outputs": [],
   "source": [
    "import pandas as pd"
   ]
  },
  {
   "cell_type": "code",
   "execution_count": null,
   "metadata": {},
   "outputs": [],
   "source": [
    "books = {\n",
    "    'title': ['The art of war', 'The final empire'],\n",
    "    'author': ['Sun Tzu','Brandon Sanderson'],\n",
    "    'price': [399, 1099],\n",
    "}\n",
    "pd.DataFrame(books)"
   ]
  },
  {
   "cell_type": "code",
   "execution_count": null,
   "metadata": {},
   "outputs": [],
   "source": [
    "movies = [\n",
    "    {'title':\"PK\", 'director':\"Rajkumar Hirani\", 'year':2014},\n",
    "    {'title':\"I\", 'director':\"Shankar\", 'year':2015},\n",
    "    {'title':\"Pink\", 'director':\"Aniruddha Roy Chowdhury\", 'year':2016},\n",
    "]\n",
    "pd.DataFrame(movies)"
   ]
  },
  {
   "cell_type": "code",
   "execution_count": null,
   "metadata": {},
   "outputs": [],
   "source": [
    "pd.read_csv('dummy.csv')"
   ]
  },
  {
   "cell_type": "code",
   "execution_count": null,
   "metadata": {},
   "outputs": [],
   "source": [
    "pd.read_json('dummy.json')"
   ]
  },
  {
   "cell_type": "code",
   "execution_count": null,
   "metadata": {},
   "outputs": [],
   "source": [
    "pd.read_excel(r'C:\\Users\\ZAID\\Documents\\dummy.xlsx')"
   ]
  },
  {
   "cell_type": "code",
   "execution_count": null,
   "metadata": {},
   "outputs": [],
   "source": [
    "url = 'https://raw.githubusercontent.com/digipodium/Datasets/main/regression/kc_house_data.csv'\n",
    "df = pd.read_csv(url)\n",
    "df"
   ]
  },
  {
   "cell_type": "markdown",
   "metadata": {},
   "source": [
    "first steps after reading the data\n",
    "- `df.head(nrows)` - first n rows\n",
    "- `df.tail(nrows)` - last n rows\n",
    "- `df.sample(nrows)` - random n rows\n",
    "- `df.info()` - data types, missing values\n",
    "- `df.describe()` - summary statistics\n",
    "- `df.shape` - number of rows and columns\n",
    "- `df.columns` - column names"
   ]
  },
  {
   "cell_type": "code",
   "execution_count": null,
   "metadata": {},
   "outputs": [],
   "source": [
    "df.head(2)"
   ]
  },
  {
   "cell_type": "code",
   "execution_count": null,
   "metadata": {},
   "outputs": [],
   "source": [
    "df.tail()"
   ]
  },
  {
   "cell_type": "code",
   "execution_count": null,
   "metadata": {},
   "outputs": [],
   "source": [
    "df.sample(3)"
   ]
  },
  {
   "cell_type": "code",
   "execution_count": null,
   "metadata": {},
   "outputs": [],
   "source": [
    "df.info()"
   ]
  },
  {
   "cell_type": "code",
   "execution_count": null,
   "metadata": {},
   "outputs": [],
   "source": [
    "df.describe() # summary statistics for numerical columns (default)"
   ]
  },
  {
   "cell_type": "code",
   "execution_count": null,
   "metadata": {},
   "outputs": [],
   "source": [
    "df.describe(include='object') # summary statistics for object columns"
   ]
  },
  {
   "cell_type": "code",
   "execution_count": null,
   "metadata": {},
   "outputs": [],
   "source": [
    "df.shape"
   ]
  },
  {
   "cell_type": "code",
   "execution_count": null,
   "metadata": {},
   "outputs": [],
   "source": [
    "print(df.columns.tolist())"
   ]
  },
  {
   "cell_type": "code",
   "execution_count": null,
   "metadata": {},
   "outputs": [],
   "source": [
    "# simple sort\n",
    "df.sort_values('bedrooms')"
   ]
  },
  {
   "cell_type": "markdown",
   "metadata": {},
   "source": [
    "# selecting data in pandas\n",
    "- dataframe\n",
    "  - rows\n",
    "    - iloc - index based location\n",
    "    - loc - label based location\n",
    "  - columns\n",
    "    - single column selection\n",
    "    - multiple column selection\n",
    "    - column selection by data type\n",
    "  - conditional selection\n",
    "    - boolean indexing\n",
    "    - query method\n",
    "  "
   ]
  },
  {
   "cell_type": "code",
   "execution_count": null,
   "metadata": {},
   "outputs": [],
   "source": [
    "df"
   ]
  },
  {
   "cell_type": "code",
   "execution_count": null,
   "metadata": {},
   "outputs": [],
   "source": [
    "# select rows from iloc\n",
    "df.iloc[100] # idx 100 row"
   ]
  },
  {
   "cell_type": "code",
   "execution_count": null,
   "metadata": {},
   "outputs": [],
   "source": [
    "# random 5 rows\n",
    "df.iloc[[1,59,100,200,300]] # idx [1, 59, 100, 200, 300] rows"
   ]
  },
  {
   "cell_type": "code",
   "execution_count": null,
   "metadata": {},
   "outputs": [],
   "source": [
    "# random 5 rows, with selected columns\n",
    "df.iloc[[1,10,20], [0,11,12,3,4]]"
   ]
  },
  {
   "cell_type": "code",
   "execution_count": null,
   "metadata": {},
   "outputs": [],
   "source": [
    "df.iloc[15:50, :10] # idx 15-49 rows, 0-9 columns"
   ]
  },
  {
   "cell_type": "code",
   "execution_count": null,
   "metadata": {},
   "outputs": [],
   "source": [
    "# selecting columns based on indexes\n",
    "df.iloc[:, [0,5,10,11]]"
   ]
  },
  {
   "cell_type": "code",
   "execution_count": null,
   "metadata": {},
   "outputs": [],
   "source": [
    "# updating index column\n",
    "df = df.set_index('id')\n",
    "df.head()"
   ]
  },
  {
   "cell_type": "code",
   "execution_count": null,
   "metadata": {},
   "outputs": [],
   "source": [
    "df.loc[[1954400510, 7202330790]]"
   ]
  },
  {
   "cell_type": "markdown",
   "metadata": {},
   "source": [
    "### single column selection\n",
    "- dictionary like selection\n",
    "  - `dataframe['column_name']`\n",
    "- object like selection\n",
    "  - `dataframe.column_name`\n",
    "\n",
    "### multiple column selection\n",
    "- dictionary like selection\n",
    "  - `dataframe[list_of_column_names]`"
   ]
  },
  {
   "cell_type": "code",
   "execution_count": null,
   "metadata": {},
   "outputs": [],
   "source": [
    "df['price']"
   ]
  },
  {
   "cell_type": "code",
   "execution_count": null,
   "metadata": {},
   "outputs": [],
   "source": [
    "df.bedrooms"
   ]
  },
  {
   "cell_type": "code",
   "execution_count": null,
   "metadata": {},
   "outputs": [],
   "source": [
    "df[['bedrooms','price','sqft_living']]"
   ]
  },
  {
   "cell_type": "code",
   "execution_count": null,
   "metadata": {},
   "outputs": [],
   "source": [
    "col_list = ['grade','condition','yr_built']\n",
    "df[col_list]"
   ]
  },
  {
   "cell_type": "markdown",
   "metadata": {},
   "source": [
    "# boolean indexing\n",
    "`df['column] > value`\n",
    "\n",
    "`df['column] == value`\n",
    "\n",
    "`df['column] != value`"
   ]
  },
  {
   "cell_type": "code",
   "execution_count": null,
   "metadata": {},
   "outputs": [],
   "source": [
    "df[df['price'] > 1000000]"
   ]
  },
  {
   "cell_type": "code",
   "execution_count": null,
   "metadata": {},
   "outputs": [],
   "source": [
    "# 5 star rated houses + 2 floors\n",
    "df[(df['condition']==5) & (df['floors'] == 2)]"
   ]
  },
  {
   "cell_type": "code",
   "execution_count": null,
   "metadata": {},
   "outputs": [],
   "source": [
    "f1 = df['price'] > 1000000\n",
    "f2 = df['condition'] == 5\n",
    "f3 = df['floors'] == 2\n",
    "df[f1 & f2 & f3]"
   ]
  },
  {
   "cell_type": "code",
   "execution_count": null,
   "metadata": {},
   "outputs": [],
   "source": [
    "df[f1 & f2 & f3].reset_index().style.background_gradient(cmap='GnBu')"
   ]
  },
  {
   "cell_type": "code",
   "execution_count": null,
   "metadata": {},
   "outputs": [],
   "source": [
    "df[f1 & f2 & f3].reset_index().style.set_properties(color='red', subset=['price'])"
   ]
  },
  {
   "cell_type": "code",
   "execution_count": null,
   "metadata": {},
   "outputs": [],
   "source": [
    "# query\n",
    "df.query('price > 2500000')"
   ]
  },
  {
   "cell_type": "code",
   "execution_count": null,
   "metadata": {},
   "outputs": [],
   "source": [
    "df.query('price > 2500000 and condition == 5')"
   ]
  },
  {
   "cell_type": "code",
   "execution_count": 161,
   "metadata": {},
   "outputs": [
    {
     "data": {
      "text/html": [
       "<div>\n",
       "<style scoped>\n",
       "    .dataframe tbody tr th:only-of-type {\n",
       "        vertical-align: middle;\n",
       "    }\n",
       "\n",
       "    .dataframe tbody tr th {\n",
       "        vertical-align: top;\n",
       "    }\n",
       "\n",
       "    .dataframe thead th {\n",
       "        text-align: right;\n",
       "    }\n",
       "</style>\n",
       "<table border=\"1\" class=\"dataframe\">\n",
       "  <thead>\n",
       "    <tr style=\"text-align: right;\">\n",
       "      <th></th>\n",
       "      <th>date</th>\n",
       "      <th>price</th>\n",
       "      <th>bedrooms</th>\n",
       "      <th>bathrooms</th>\n",
       "      <th>sqft_living</th>\n",
       "      <th>sqft_lot</th>\n",
       "      <th>floors</th>\n",
       "      <th>waterfront</th>\n",
       "      <th>view</th>\n",
       "      <th>condition</th>\n",
       "      <th>grade</th>\n",
       "      <th>sqft_above</th>\n",
       "      <th>sqft_basement</th>\n",
       "      <th>yr_built</th>\n",
       "      <th>yr_renovated</th>\n",
       "      <th>zipcode</th>\n",
       "      <th>lat</th>\n",
       "      <th>long</th>\n",
       "      <th>sqft_living15</th>\n",
       "      <th>sqft_lot15</th>\n",
       "    </tr>\n",
       "    <tr>\n",
       "      <th>id</th>\n",
       "      <th></th>\n",
       "      <th></th>\n",
       "      <th></th>\n",
       "      <th></th>\n",
       "      <th></th>\n",
       "      <th></th>\n",
       "      <th></th>\n",
       "      <th></th>\n",
       "      <th></th>\n",
       "      <th></th>\n",
       "      <th></th>\n",
       "      <th></th>\n",
       "      <th></th>\n",
       "      <th></th>\n",
       "      <th></th>\n",
       "      <th></th>\n",
       "      <th></th>\n",
       "      <th></th>\n",
       "      <th></th>\n",
       "      <th></th>\n",
       "    </tr>\n",
       "  </thead>\n",
       "  <tbody>\n",
       "    <tr>\n",
       "      <th>9471200370</th>\n",
       "      <td>20150330T000000</td>\n",
       "      <td>2537000.0</td>\n",
       "      <td>4</td>\n",
       "      <td>3.00</td>\n",
       "      <td>3710</td>\n",
       "      <td>20000</td>\n",
       "      <td>2.0</td>\n",
       "      <td>0</td>\n",
       "      <td>2</td>\n",
       "      <td>5</td>\n",
       "      <td>10</td>\n",
       "      <td>2760</td>\n",
       "      <td>950</td>\n",
       "      <td>1936</td>\n",
       "      <td>0</td>\n",
       "      <td>98105</td>\n",
       "      <td>47.6696</td>\n",
       "      <td>-122.261</td>\n",
       "      <td>3970</td>\n",
       "      <td>20000</td>\n",
       "    </tr>\n",
       "    <tr>\n",
       "      <th>9185700485</th>\n",
       "      <td>20150401T000000</td>\n",
       "      <td>2538000.0</td>\n",
       "      <td>4</td>\n",
       "      <td>3.50</td>\n",
       "      <td>4350</td>\n",
       "      <td>6000</td>\n",
       "      <td>2.0</td>\n",
       "      <td>0</td>\n",
       "      <td>0</td>\n",
       "      <td>5</td>\n",
       "      <td>10</td>\n",
       "      <td>2970</td>\n",
       "      <td>1380</td>\n",
       "      <td>1908</td>\n",
       "      <td>0</td>\n",
       "      <td>98112</td>\n",
       "      <td>47.6277</td>\n",
       "      <td>-122.286</td>\n",
       "      <td>4190</td>\n",
       "      <td>7200</td>\n",
       "    </tr>\n",
       "    <tr>\n",
       "      <th>1954700410</th>\n",
       "      <td>20140801T000000</td>\n",
       "      <td>2546000.0</td>\n",
       "      <td>4</td>\n",
       "      <td>3.00</td>\n",
       "      <td>4190</td>\n",
       "      <td>8805</td>\n",
       "      <td>2.5</td>\n",
       "      <td>0</td>\n",
       "      <td>2</td>\n",
       "      <td>5</td>\n",
       "      <td>9</td>\n",
       "      <td>3490</td>\n",
       "      <td>700</td>\n",
       "      <td>1928</td>\n",
       "      <td>0</td>\n",
       "      <td>98112</td>\n",
       "      <td>47.6181</td>\n",
       "      <td>-122.284</td>\n",
       "      <td>3780</td>\n",
       "      <td>8558</td>\n",
       "    </tr>\n",
       "    <tr>\n",
       "      <th>1069000070</th>\n",
       "      <td>20150415T000000</td>\n",
       "      <td>2795000.0</td>\n",
       "      <td>5</td>\n",
       "      <td>3.25</td>\n",
       "      <td>4590</td>\n",
       "      <td>12793</td>\n",
       "      <td>2.0</td>\n",
       "      <td>0</td>\n",
       "      <td>2</td>\n",
       "      <td>5</td>\n",
       "      <td>11</td>\n",
       "      <td>3590</td>\n",
       "      <td>1000</td>\n",
       "      <td>1928</td>\n",
       "      <td>0</td>\n",
       "      <td>98199</td>\n",
       "      <td>47.6453</td>\n",
       "      <td>-122.410</td>\n",
       "      <td>2920</td>\n",
       "      <td>8609</td>\n",
       "    </tr>\n",
       "    <tr>\n",
       "      <th>6065300840</th>\n",
       "      <td>20150501T000000</td>\n",
       "      <td>2850000.0</td>\n",
       "      <td>4</td>\n",
       "      <td>4.00</td>\n",
       "      <td>5040</td>\n",
       "      <td>17208</td>\n",
       "      <td>1.0</td>\n",
       "      <td>0</td>\n",
       "      <td>0</td>\n",
       "      <td>5</td>\n",
       "      <td>10</td>\n",
       "      <td>2870</td>\n",
       "      <td>2170</td>\n",
       "      <td>1976</td>\n",
       "      <td>0</td>\n",
       "      <td>98006</td>\n",
       "      <td>47.5701</td>\n",
       "      <td>-122.188</td>\n",
       "      <td>4050</td>\n",
       "      <td>18647</td>\n",
       "    </tr>\n",
       "    <tr>\n",
       "      <th>5317100750</th>\n",
       "      <td>20140711T000000</td>\n",
       "      <td>2920000.0</td>\n",
       "      <td>4</td>\n",
       "      <td>4.75</td>\n",
       "      <td>4575</td>\n",
       "      <td>24085</td>\n",
       "      <td>2.5</td>\n",
       "      <td>0</td>\n",
       "      <td>2</td>\n",
       "      <td>5</td>\n",
       "      <td>10</td>\n",
       "      <td>3905</td>\n",
       "      <td>670</td>\n",
       "      <td>1926</td>\n",
       "      <td>0</td>\n",
       "      <td>98112</td>\n",
       "      <td>47.6263</td>\n",
       "      <td>-122.284</td>\n",
       "      <td>3900</td>\n",
       "      <td>9687</td>\n",
       "    </tr>\n",
       "    <tr>\n",
       "      <th>6613000930</th>\n",
       "      <td>20140902T000000</td>\n",
       "      <td>2950000.0</td>\n",
       "      <td>4</td>\n",
       "      <td>3.25</td>\n",
       "      <td>3890</td>\n",
       "      <td>25470</td>\n",
       "      <td>2.0</td>\n",
       "      <td>1</td>\n",
       "      <td>3</td>\n",
       "      <td>5</td>\n",
       "      <td>10</td>\n",
       "      <td>3030</td>\n",
       "      <td>860</td>\n",
       "      <td>1923</td>\n",
       "      <td>0</td>\n",
       "      <td>98105</td>\n",
       "      <td>47.6608</td>\n",
       "      <td>-122.269</td>\n",
       "      <td>4140</td>\n",
       "      <td>19281</td>\n",
       "    </tr>\n",
       "    <tr>\n",
       "      <th>3761100045</th>\n",
       "      <td>20140618T000000</td>\n",
       "      <td>3000000.0</td>\n",
       "      <td>4</td>\n",
       "      <td>4.25</td>\n",
       "      <td>4850</td>\n",
       "      <td>12445</td>\n",
       "      <td>2.0</td>\n",
       "      <td>1</td>\n",
       "      <td>4</td>\n",
       "      <td>5</td>\n",
       "      <td>10</td>\n",
       "      <td>3850</td>\n",
       "      <td>1000</td>\n",
       "      <td>1989</td>\n",
       "      <td>0</td>\n",
       "      <td>98034</td>\n",
       "      <td>47.7011</td>\n",
       "      <td>-122.244</td>\n",
       "      <td>3350</td>\n",
       "      <td>12210</td>\n",
       "    </tr>\n",
       "    <tr>\n",
       "      <th>1732800780</th>\n",
       "      <td>20150212T000000</td>\n",
       "      <td>3065000.0</td>\n",
       "      <td>5</td>\n",
       "      <td>3.00</td>\n",
       "      <td>4150</td>\n",
       "      <td>7500</td>\n",
       "      <td>2.5</td>\n",
       "      <td>0</td>\n",
       "      <td>4</td>\n",
       "      <td>5</td>\n",
       "      <td>11</td>\n",
       "      <td>3510</td>\n",
       "      <td>640</td>\n",
       "      <td>1909</td>\n",
       "      <td>0</td>\n",
       "      <td>98119</td>\n",
       "      <td>47.6303</td>\n",
       "      <td>-122.362</td>\n",
       "      <td>2250</td>\n",
       "      <td>4050</td>\n",
       "    </tr>\n",
       "    <tr>\n",
       "      <th>7159200005</th>\n",
       "      <td>20140507T000000</td>\n",
       "      <td>3200000.0</td>\n",
       "      <td>7</td>\n",
       "      <td>4.50</td>\n",
       "      <td>6210</td>\n",
       "      <td>8856</td>\n",
       "      <td>2.5</td>\n",
       "      <td>0</td>\n",
       "      <td>2</td>\n",
       "      <td>5</td>\n",
       "      <td>11</td>\n",
       "      <td>4760</td>\n",
       "      <td>1450</td>\n",
       "      <td>1910</td>\n",
       "      <td>0</td>\n",
       "      <td>98109</td>\n",
       "      <td>47.6307</td>\n",
       "      <td>-122.354</td>\n",
       "      <td>2940</td>\n",
       "      <td>5400</td>\n",
       "    </tr>\n",
       "    <tr>\n",
       "      <th>1346300150</th>\n",
       "      <td>20141020T000000</td>\n",
       "      <td>3300000.0</td>\n",
       "      <td>8</td>\n",
       "      <td>4.00</td>\n",
       "      <td>7710</td>\n",
       "      <td>11750</td>\n",
       "      <td>3.5</td>\n",
       "      <td>0</td>\n",
       "      <td>0</td>\n",
       "      <td>5</td>\n",
       "      <td>12</td>\n",
       "      <td>6090</td>\n",
       "      <td>1620</td>\n",
       "      <td>1904</td>\n",
       "      <td>0</td>\n",
       "      <td>98112</td>\n",
       "      <td>47.6263</td>\n",
       "      <td>-122.314</td>\n",
       "      <td>4210</td>\n",
       "      <td>8325</td>\n",
       "    </tr>\n",
       "    <tr>\n",
       "      <th>4217402115</th>\n",
       "      <td>20150421T000000</td>\n",
       "      <td>3650000.0</td>\n",
       "      <td>6</td>\n",
       "      <td>4.75</td>\n",
       "      <td>5480</td>\n",
       "      <td>19401</td>\n",
       "      <td>1.5</td>\n",
       "      <td>1</td>\n",
       "      <td>4</td>\n",
       "      <td>5</td>\n",
       "      <td>11</td>\n",
       "      <td>3910</td>\n",
       "      <td>1570</td>\n",
       "      <td>1936</td>\n",
       "      <td>0</td>\n",
       "      <td>98105</td>\n",
       "      <td>47.6515</td>\n",
       "      <td>-122.277</td>\n",
       "      <td>3510</td>\n",
       "      <td>15810</td>\n",
       "    </tr>\n",
       "  </tbody>\n",
       "</table>\n",
       "</div>"
      ],
      "text/plain": [
       "                       date      price  bedrooms  bathrooms  sqft_living  \\\n",
       "id                                                                         \n",
       "9471200370  20150330T000000  2537000.0         4       3.00         3710   \n",
       "9185700485  20150401T000000  2538000.0         4       3.50         4350   \n",
       "1954700410  20140801T000000  2546000.0         4       3.00         4190   \n",
       "1069000070  20150415T000000  2795000.0         5       3.25         4590   \n",
       "6065300840  20150501T000000  2850000.0         4       4.00         5040   \n",
       "5317100750  20140711T000000  2920000.0         4       4.75         4575   \n",
       "6613000930  20140902T000000  2950000.0         4       3.25         3890   \n",
       "3761100045  20140618T000000  3000000.0         4       4.25         4850   \n",
       "1732800780  20150212T000000  3065000.0         5       3.00         4150   \n",
       "7159200005  20140507T000000  3200000.0         7       4.50         6210   \n",
       "1346300150  20141020T000000  3300000.0         8       4.00         7710   \n",
       "4217402115  20150421T000000  3650000.0         6       4.75         5480   \n",
       "\n",
       "            sqft_lot  floors  waterfront  view  condition  grade  sqft_above  \\\n",
       "id                                                                             \n",
       "9471200370     20000     2.0           0     2          5     10        2760   \n",
       "9185700485      6000     2.0           0     0          5     10        2970   \n",
       "1954700410      8805     2.5           0     2          5      9        3490   \n",
       "1069000070     12793     2.0           0     2          5     11        3590   \n",
       "6065300840     17208     1.0           0     0          5     10        2870   \n",
       "5317100750     24085     2.5           0     2          5     10        3905   \n",
       "6613000930     25470     2.0           1     3          5     10        3030   \n",
       "3761100045     12445     2.0           1     4          5     10        3850   \n",
       "1732800780      7500     2.5           0     4          5     11        3510   \n",
       "7159200005      8856     2.5           0     2          5     11        4760   \n",
       "1346300150     11750     3.5           0     0          5     12        6090   \n",
       "4217402115     19401     1.5           1     4          5     11        3910   \n",
       "\n",
       "            sqft_basement  yr_built  yr_renovated  zipcode      lat     long  \\\n",
       "id                                                                             \n",
       "9471200370            950      1936             0    98105  47.6696 -122.261   \n",
       "9185700485           1380      1908             0    98112  47.6277 -122.286   \n",
       "1954700410            700      1928             0    98112  47.6181 -122.284   \n",
       "1069000070           1000      1928             0    98199  47.6453 -122.410   \n",
       "6065300840           2170      1976             0    98006  47.5701 -122.188   \n",
       "5317100750            670      1926             0    98112  47.6263 -122.284   \n",
       "6613000930            860      1923             0    98105  47.6608 -122.269   \n",
       "3761100045           1000      1989             0    98034  47.7011 -122.244   \n",
       "1732800780            640      1909             0    98119  47.6303 -122.362   \n",
       "7159200005           1450      1910             0    98109  47.6307 -122.354   \n",
       "1346300150           1620      1904             0    98112  47.6263 -122.314   \n",
       "4217402115           1570      1936             0    98105  47.6515 -122.277   \n",
       "\n",
       "            sqft_living15  sqft_lot15  \n",
       "id                                     \n",
       "9471200370           3970       20000  \n",
       "9185700485           4190        7200  \n",
       "1954700410           3780        8558  \n",
       "1069000070           2920        8609  \n",
       "6065300840           4050       18647  \n",
       "5317100750           3900        9687  \n",
       "6613000930           4140       19281  \n",
       "3761100045           3350       12210  \n",
       "1732800780           2250        4050  \n",
       "7159200005           2940        5400  \n",
       "1346300150           4210        8325  \n",
       "4217402115           3510       15810  "
      ]
     },
     "execution_count": 161,
     "metadata": {},
     "output_type": "execute_result"
    }
   ],
   "source": [
    "df.query('price > 2500000 and condition == 5').sort_values('price')"
   ]
  },
  {
   "cell_type": "code",
   "execution_count": null,
   "metadata": {},
   "outputs": [],
   "source": []
  }
 ],
 "metadata": {
  "kernelspec": {
   "display_name": "base",
   "language": "python",
   "name": "python3"
  },
  "language_info": {
   "codemirror_mode": {
    "name": "ipython",
    "version": 3
   },
   "file_extension": ".py",
   "mimetype": "text/x-python",
   "name": "python",
   "nbconvert_exporter": "python",
   "pygments_lexer": "ipython3",
   "version": "3.12.2"
  }
 },
 "nbformat": 4,
 "nbformat_minor": 2
}

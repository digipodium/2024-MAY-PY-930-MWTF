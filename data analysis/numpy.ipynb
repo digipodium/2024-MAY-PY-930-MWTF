{
 "cells": [
  {
   "cell_type": "code",
   "execution_count": null,
   "metadata": {},
   "outputs": [],
   "source": [
    "import numpy as np"
   ]
  },
  {
   "cell_type": "markdown",
   "metadata": {},
   "source": [
    "slicing in a 2D matrix\n",
    "\n",
    "```python\n",
    "var[start: stop: step]   # 1D \n",
    "\n",
    "var[rstart:rstop:rstep, cstart:cstop:cstep] # 2D\n",
    "```"
   ]
  },
  {
   "cell_type": "code",
   "execution_count": null,
   "metadata": {},
   "outputs": [],
   "source": [
    "x = np.random.randint(1, 10, (5, 5)) # 5x5 matrix\n",
    "print(x)"
   ]
  },
  {
   "cell_type": "code",
   "execution_count": null,
   "metadata": {},
   "outputs": [],
   "source": [
    "print(x[0]) # row 1st (index 0)\n",
    "print(x[0, 1])  # row 1st col 2nd\n",
    "print(x[-1]) # last row\n",
    "print(x[:3]) # 1st 3 rows\n",
    "print(x[3:]) # all rows after 3rd row"
   ]
  },
  {
   "cell_type": "markdown",
   "metadata": {},
   "source": [
    "boolean filtering\n",
    "\n",
    "extract data from matrix based on condition"
   ]
  },
  {
   "cell_type": "code",
   "execution_count": null,
   "metadata": {},
   "outputs": [],
   "source": [
    "x > 5 # boolean matrix"
   ]
  },
  {
   "cell_type": "code",
   "execution_count": null,
   "metadata": {},
   "outputs": [],
   "source": [
    "x[x > 5] # boolean filtering"
   ]
  },
  {
   "cell_type": "code",
   "execution_count": null,
   "metadata": {},
   "outputs": [],
   "source": [
    "y = x[x < 5]\n",
    "print(y.shape)\n",
    "z = y.reshape(3,3)\n",
    "print(z)"
   ]
  },
  {
   "cell_type": "markdown",
   "metadata": {},
   "source": [
    "visualizing numerical data"
   ]
  },
  {
   "cell_type": "code",
   "execution_count": null,
   "metadata": {},
   "outputs": [],
   "source": [
    "!pip show matplotlib"
   ]
  },
  {
   "cell_type": "code",
   "execution_count": null,
   "metadata": {},
   "outputs": [],
   "source": [
    "import matplotlib.pyplot as plt"
   ]
  },
  {
   "cell_type": "code",
   "execution_count": null,
   "metadata": {},
   "outputs": [],
   "source": [
    "plt.plot([1, 2, 3], [4, 5, 6], linewidth=5, color='orange', marker='o', markersize=20)\n",
    "plt.plot([1, 2, 3], [6, 5, 4], linewidth=5, color='blue', marker='o', markersize=20)\n",
    "plt.xticks([1,2,3], ['one', 'two', 'three'], rotation=45)\n",
    "plt.yticks([4,5,6], ['four', 'five', 'six'])\n",
    "plt.title('My first plot')\n",
    "plt.xlabel('X-axis')\n",
    "plt.ylabel('Y-axis')\n",
    "plt.text(x = 2, y =5.35 , \n",
    "        s=\"Crossing\\npoint\", fontsize=8, \n",
    "        color='red', horizontalalignment='center')\n",
    "plt.show()"
   ]
  },
  {
   "cell_type": "code",
   "execution_count": null,
   "metadata": {},
   "outputs": [],
   "source": [
    "plt.plot?"
   ]
  },
  {
   "cell_type": "code",
   "execution_count": null,
   "metadata": {},
   "outputs": [],
   "source": [
    "import numpy as np\n",
    "import matplotlib.pyplot as plt"
   ]
  },
  {
   "cell_type": "markdown",
   "metadata": {},
   "source": [
    "standard way of visualization"
   ]
  },
  {
   "cell_type": "code",
   "execution_count": null,
   "metadata": {},
   "outputs": [],
   "source": [
    "fig, ax = plt.subplots(nrows=1, ncols=2, figsize=(15, 5))\n",
    "t = np.arange(-10,10,.1)\n",
    "sine = np.sin(t)\n",
    "cosine = np.cos(t)\n",
    "# print(t)\n",
    "# print(sine)\n",
    "# print(cosine)\n",
    "ax[0].plot(t, sine, label='sine', color='red', linestyle='', marker='x')\n",
    "ax[1].plot(t, cosine, label='cosine', color='g')\n",
    "plt.savefig('sine_cosine.png', dpi=300)"
   ]
  },
  {
   "cell_type": "markdown",
   "metadata": {},
   "source": [
    "Graphs\n",
    "```\n",
    "plt.plot => line graph\n",
    "plt.bar => bar graph\n",
    "plt.pie => pie graph\n",
    "plt.scatter => scatter plot\n",
    "plt.hist => histogram \n",
    "```"
   ]
  },
  {
   "cell_type": "code",
   "execution_count": null,
   "metadata": {},
   "outputs": [],
   "source": [
    "fig, ((g1, g2), (g3, g4)) = plt.subplots(nrows=2, ncols=2, figsize=(10, 10))\n",
    "days = ['sun', 'mon', 'tue', 'wed', 'thu', 'fri', 'sat']\n",
    "sales = [160, 150, 140, 145, 205, 165, 180] \n",
    "profit = np.random.normal(50, 20, 100) # mean 50, std 20, 100 samples\n",
    "g1.bar(days, sales)\n",
    "g2.hist(profit,bins=[0, 20, 40, 60, 80, 100], color='g', edgecolor='black', alpha=.5)\n",
    "g3.pie(sales, labels=days, autopct= '%.1f%%', \n",
    "       explode=(0,0,0,0,0.1,0,0), wedgeprops={'width':0.7})\n",
    "x = np.random.normal(0, 1, 500)\n",
    "y = np.random.normal(0, 1, 500)\n",
    "g4.scatter(x, y, color='r', alpha=0.5)\n",
    "plt.show()"
   ]
  },
  {
   "cell_type": "code",
   "execution_count": 89,
   "metadata": {},
   "outputs": [
    {
     "data": {
      "text/plain": [
       "<StemContainer object of 3 artists>"
      ]
     },
     "execution_count": 89,
     "metadata": {},
     "output_type": "execute_result"
    },
    {
     "data": {
      "image/png": "[encoded data removed]",
      "text/plain": [
       "<Figure size 640x480 with 1 Axes>"
      ]
     },
     "metadata": {},
     "output_type": "display_data"
    }
   ],
   "source": [
    "plt.stem(sales)"
   ]
  },
  {
   "cell_type": "code",
   "execution_count": null,
   "metadata": {},
   "outputs": [],
   "source": []
  }
 ],
 "metadata": {
  "kernelspec": {
   "display_name": "base",
   "language": "python",
   "name": "python3"
  },
  "language_info": {
   "codemirror_mode": {
    "name": "ipython",
    "version": 3
   },
   "file_extension": ".py",
   "mimetype": "text/x-python",
   "name": "python",
   "nbconvert_exporter": "python",
   "pygments_lexer": "ipython3",
   "version": "3.12.2"
  }
 },
 "nbformat": 4,
 "nbformat_minor": 2
}

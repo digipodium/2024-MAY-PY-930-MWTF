{
 "cells": [
  {
   "cell_type": "code",
   "execution_count": null,
   "metadata": {},
   "outputs": [],
   "source": [
    "class Pen:\n",
    "    shape = None\n",
    "    color = None\n",
    "    material = None\n",
    "    type = None\n",
    "    \n",
    "    def show(self):\n",
    "        print(\"This is a pen\")"
   ]
  },
  {
   "cell_type": "code",
   "execution_count": null,
   "metadata": {},
   "outputs": [],
   "source": [
    "p1 = Pen() # create an object of Pen class \n",
    "p2 = Pen()\n",
    "print(p1)\n",
    "print(p2)\n",
    "p1.show()  # calling a method of Pen class\n",
    "p2.show()\n",
    "print(p1.shape)\n",
    "p1.shape = \"cylinder\" # setting the value of shape attribute\n",
    "p2.shape = \"hexagon\"\n",
    "p1.color = \"blue\"\n",
    "p2.color = \"red\"\n",
    "p1.material = \"plastic\"\n",
    "p2.material = \"metal\"\n",
    "p1.type = \"ballpoint\"\n",
    "p2.type = 'gelpel'\n",
    "print(p1.shape, p1.color, p1.material, p1.type)\n"
   ]
  },
  {
   "cell_type": "code",
   "execution_count": null,
   "metadata": {},
   "outputs": [],
   "source": [
    "class Student:\n",
    "    def __init__(self, nm, course, college, gender='F') -> None:\n",
    "        # instance variables\n",
    "        self.name = nm\n",
    "        self.course = course\n",
    "        self.college = college\n",
    "        self.gender = gender\n",
    "        self.skills = []\n",
    "\n",
    "    # instance method\n",
    "    def show(self):\n",
    "        print(\"Student Name:\", self.name)\n",
    "        print(\"Course:\", self.course)\n",
    "        print(\"College:\", self.college)\n",
    "        print(\"Gender:\", self.gender)\n",
    "        print(\"Skills:\", *self.skills)\n",
    "    \n",
    "    def add_skill(self, new_skill):\n",
    "        self.skills.append(new_skill)"
   ]
  },
  {
   "cell_type": "code",
   "execution_count": null,
   "metadata": {},
   "outputs": [],
   "source": [
    "s1 = Student(\"Krish\", \"Btech\", \"Amity\", \"M\")\n",
    "s2 = Student(\"Shaurya\", \"Btech\", \"MIT\", \"M\")\n",
    "s3 = Student(\"Srishti\", \"Btech\", \"SRMU\", \"F\")\n",
    "s1.add_skill(\"coding\")\n",
    "s1.add_skill(\"strategy\")\n",
    "s2.add_skill(\"lawn tennis\")\n",
    "s2.add_skill(\"table tennis\")\n",
    "s3.add_skill(\"singing\")\n",
    "s3.add_skill(\"kungfu\")\n",
    "s1.show()\n",
    "s2.show()\n",
    "s3.show()\n"
   ]
  },
  {
   "cell_type": "markdown",
   "metadata": {},
   "source": [
    "### data class\n",
    "- `data class` is a class that only contains data"
   ]
  },
  {
   "cell_type": "code",
   "execution_count": null,
   "metadata": {},
   "outputs": [],
   "source": [
    "from dataclasses import dataclass"
   ]
  },
  {
   "cell_type": "code",
   "execution_count": null,
   "metadata": {},
   "outputs": [],
   "source": [
    "@dataclass\n",
    "class Employee:\n",
    "    name: str\n",
    "    designation: str\n",
    "    salary: float"
   ]
  },
  {
   "cell_type": "code",
   "execution_count": null,
   "metadata": {},
   "outputs": [],
   "source": [
    "e1 = Employee(\"sam\", \"manager\", 50000)\n",
    "e2 = Employee(\"kim\", \"developer\", 30000)\n",
    "print(e1)\n",
    "print(e2)\n",
    "print(e1.name)"
   ]
  },
  {
   "cell_type": "code",
   "execution_count": 50,
   "metadata": {},
   "outputs": [],
   "source": [
    "class Backbencher(Student):\n",
    "    pass"
   ]
  },
  {
   "cell_type": "code",
   "execution_count": 55,
   "metadata": {},
   "outputs": [
    {
     "name": "stdout",
     "output_type": "stream",
     "text": [
      "Student Name: Rahul\n",
      "Course: Btech\n",
      "College: SRMU\n",
      "Gender: M\n",
      "Skills: sleeping\n"
     ]
    }
   ],
   "source": [
    "b1 = Backbencher(\"Rahul\", \"Btech\", \"SRMU\", \"M\")\n",
    "b1.add_skill(\"sleeping\")\n",
    "b1.show()"
   ]
  },
  {
   "cell_type": "code",
   "execution_count": null,
   "metadata": {},
   "outputs": [],
   "source": []
  }
 ],
 "metadata": {
  "kernelspec": {
   "display_name": "base",
   "language": "python",
   "name": "python3"
  },
  "language_info": {
   "codemirror_mode": {
    "name": "ipython",
    "version": 3
   },
   "file_extension": ".py",
   "mimetype": "text/x-python",
   "name": "python",
   "nbconvert_exporter": "python",
   "pygments_lexer": "ipython3",
   "version": "3.12.2"
  }
 },
 "nbformat": 4,
 "nbformat_minor": 2
}

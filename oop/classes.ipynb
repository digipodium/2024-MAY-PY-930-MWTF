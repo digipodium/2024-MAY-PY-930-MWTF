{
 "cells": [
  {
   "cell_type": "code",
   "execution_count": null,
   "metadata": {},
   "outputs": [],
   "source": [
    "class Pen:\n",
    "    shape = None\n",
    "    color = None\n",
    "    material = None\n",
    "    type = None\n",
    "    \n",
    "    def show(self):\n",
    "        print(\"This is a pen\")"
   ]
  },
  {
   "cell_type": "code",
   "execution_count": null,
   "metadata": {},
   "outputs": [],
   "source": [
    "p1 = Pen() # create an object of Pen class \n",
    "p2 = Pen()\n",
    "print(p1)\n",
    "print(p2)\n",
    "p1.show()  # calling a method of Pen class\n",
    "p2.show()\n",
    "print(p1.shape)\n",
    "p1.shape = \"cylinder\" # setting the value of shape attribute\n",
    "p2.shape = \"hexagon\"\n",
    "p1.color = \"blue\"\n",
    "p2.color = \"red\"\n",
    "p1.material = \"plastic\"\n",
    "p2.material = \"metal\"\n",
    "p1.type = \"ballpoint\"\n",
    "p2.type = 'gelpel'\n",
    "print(p1.shape, p1.color, p1.material, p1.type)\n"
   ]
  },
  {
   "cell_type": "code",
   "execution_count": null,
   "metadata": {},
   "outputs": [],
   "source": [
    "class Student:\n",
    "    def __init__(self, nm, course, college, gender='F') -> None:\n",
    "        # instance variables\n",
    "        self.name = nm\n",
    "        self.course = course\n",
    "        self.college = college\n",
    "        self.gender = gender\n",
    "        self.skills = []\n",
    "\n",
    "    # instance method\n",
    "    def show(self):\n",
    "        print(\"Student Name:\", self.name)\n",
    "        print(\"Course:\", self.course)\n",
    "        print(\"College:\", self.college)\n",
    "        print(\"Gender:\", self.gender)\n",
    "        print(\"Skills:\", *self.skills)\n",
    "    \n",
    "    def add_skill(self, new_skill):\n",
    "        self.skills.append(new_skill)"
   ]
  },
  {
   "cell_type": "code",
   "execution_count": null,
   "metadata": {},
   "outputs": [],
   "source": [
    "s1 = Student(\"Krish\", \"Btech\", \"Amity\", \"M\")\n",
    "s2 = Student(\"Shaurya\", \"Btech\", \"MIT\", \"M\")\n",
    "s3 = Student(\"Srishti\", \"Btech\", \"SRMU\", \"F\")\n",
    "s1.add_skill(\"coding\")\n",
    "s1.add_skill(\"strategy\")\n",
    "s2.add_skill(\"lawn tennis\")\n",
    "s2.add_skill(\"table tennis\")\n",
    "s3.add_skill(\"singing\")\n",
    "s3.add_skill(\"kungfu\")\n",
    "s1.show()\n",
    "s2.show()\n",
    "s3.show()\n"
   ]
  },
  {
   "cell_type": "markdown",
   "metadata": {},
   "source": [
    "### data class\n",
    "- `data class` is a class that only contains data"
   ]
  },
  {
   "cell_type": "code",
   "execution_count": null,
   "metadata": {},
   "outputs": [],
   "source": [
    "from dataclasses import dataclass"
   ]
  },
  {
   "cell_type": "code",
   "execution_count": null,
   "metadata": {},
   "outputs": [],
   "source": [
    "@dataclass\n",
    "class Employee:\n",
    "    name: str\n",
    "    designation: str\n",
    "    salary: float"
   ]
  },
  {
   "cell_type": "code",
   "execution_count": null,
   "metadata": {},
   "outputs": [],
   "source": [
    "e1 = Employee(\"sam\", \"manager\", 50000)\n",
    "e2 = Employee(\"kim\", \"developer\", 30000)\n",
    "print(e1)\n",
    "print(e2)\n",
    "print(e1.name)"
   ]
  },
  {
   "cell_type": "code",
   "execution_count": null,
   "metadata": {},
   "outputs": [],
   "source": [
    "class Backbencher(Student):\n",
    "    pass"
   ]
  },
  {
   "cell_type": "code",
   "execution_count": null,
   "metadata": {},
   "outputs": [],
   "source": [
    "b1 = Backbencher(\"Rahul\", \"Btech\", \"SRMU\", \"M\")\n",
    "b1.add_skill(\"sleeping\")\n",
    "b1.show()"
   ]
  },
  {
   "cell_type": "markdown",
   "metadata": {},
   "source": [
    "inheritance\n",
    "- `there are no access modifiers in python, everything is public`\n",
    "- constructor\n",
    "- method overriding"
   ]
  },
  {
   "cell_type": "code",
   "execution_count": null,
   "metadata": {},
   "outputs": [],
   "source": [
    "# parent class\n",
    "class Shape:\n",
    "    def __init__(self, color, filled) -> None:\n",
    "        self.color = color\n",
    "        self.filled = filled\n",
    "\n",
    "    def show(self):\n",
    "        print(\"Color:\", self.color)\n",
    "        print(\"Filled:\", self.filled)"
   ]
  },
  {
   "cell_type": "code",
   "execution_count": null,
   "metadata": {},
   "outputs": [],
   "source": [
    "# child class\n",
    "class Circle(Shape):\n",
    "    # constructor overriding\n",
    "    def __init__(self, radius, color, filled) -> None:\n",
    "        super().__init__(color, filled)\n",
    "        self.radius = radius\n",
    "    \n",
    "class Rectangle(Shape):\n",
    "    # constructor overriding\n",
    "    def __init__(self, l, w, color, filled) -> None:\n",
    "        super().__init__(color, filled)\n",
    "        self.length = l\n",
    "        self.width = w\n",
    "    \n",
    "    # method overriding\n",
    "    def show(self):\n",
    "        super().show()\n",
    "        print(\"Length:\", self.length)\n",
    "        print(\"Width:\", self.width)\n",
    "\n",
    "    def area(self):\n",
    "        return self.length * self.width\n",
    "\n",
    "class Triangle(Shape):\n",
    "    # constructor overriding\n",
    "    def __init__(self, base, height) -> None:\n",
    "        # parent class constructor fixed values\n",
    "        super().__init__(color='red', filled=True)\n",
    "        self.base = base\n",
    "        self.height = height"
   ]
  },
  {
   "cell_type": "code",
   "execution_count": null,
   "metadata": {},
   "outputs": [],
   "source": [
    "circle = Circle(5, \"red\", True)\n",
    "circle.show()\n",
    "rect = Rectangle(10, 5, \"green\", False)\n",
    "rect.show()\n",
    "print(\"Rectangle area:\",rect.area())\n",
    "tri = Triangle(10, 5)\n",
    "tri.show()"
   ]
  }
 ],
 "metadata": {
  "kernelspec": {
   "display_name": "base",
   "language": "python",
   "name": "python3"
  },
  "language_info": {
   "codemirror_mode": {
    "name": "ipython",
    "version": 3
   },
   "file_extension": ".py",
   "mimetype": "text/x-python",
   "name": "python",
   "nbconvert_exporter": "python",
   "pygments_lexer": "ipython3",
   "version": "3.12.2"
  }
 },
 "nbformat": 4,
 "nbformat_minor": 2
}

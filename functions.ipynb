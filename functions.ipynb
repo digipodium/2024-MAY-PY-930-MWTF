{
 "cells": [
  {
   "cell_type": "markdown",
   "metadata": {},
   "source": [
    "### functions are of two types\n",
    "- pre-defined\n",
    "  - `print`, `input`, `sum`, `len`, `type`, `isinstance`\n",
    "- user-defined\n",
    "  - `defined by user(coder)`\n",
    "    - code reuse\n",
    "    - easy debugging\n",
    "    - manageable"
   ]
  },
  {
   "cell_type": "code",
   "execution_count": null,
   "metadata": {},
   "outputs": [],
   "source": [
    "# defining the function\n",
    "def greetings():\n",
    "    print('☀️☀️☀️☀️☀️')\n",
    "    print('Good Morning!')\n",
    "    print('☀️☀️☀️☀️☀️')"
   ]
  },
  {
   "cell_type": "code",
   "execution_count": null,
   "metadata": {},
   "outputs": [],
   "source": [
    "# calling a function (using)\n",
    "greetings"
   ]
  },
  {
   "cell_type": "code",
   "execution_count": null,
   "metadata": {},
   "outputs": [],
   "source": [
    "greetings()"
   ]
  },
  {
   "cell_type": "code",
   "execution_count": null,
   "metadata": {},
   "outputs": [],
   "source": [
    "greetings()\n",
    "greetings()\n",
    "greetings()"
   ]
  },
  {
   "cell_type": "code",
   "execution_count": null,
   "metadata": {},
   "outputs": [],
   "source": [
    "greetings()"
   ]
  },
  {
   "cell_type": "code",
   "execution_count": null,
   "metadata": {},
   "outputs": [],
   "source": [
    "def roll():\n",
    "    from random import randint\n",
    "    dice = randint(1, 6)\n",
    "    print(f'🎲{dice}')"
   ]
  },
  {
   "cell_type": "code",
   "execution_count": null,
   "metadata": {},
   "outputs": [],
   "source": [
    "roll()"
   ]
  },
  {
   "cell_type": "code",
   "execution_count": null,
   "metadata": {},
   "outputs": [],
   "source": [
    "def area(l, b):\n",
    "    a = l * b\n",
    "    print(f'area -> {a}')"
   ]
  },
  {
   "cell_type": "code",
   "execution_count": null,
   "metadata": {},
   "outputs": [],
   "source": [
    "# professional way of writing a function\n",
    "def perimeter(l: int, b: int) -> None:\n",
    "    \"\"\"\n",
    "    calculates the perimeter of a rectangle\n",
    "    \"\"\"\n",
    "    p = 2 * (l + b)\n",
    "    print(p)"
   ]
  },
  {
   "cell_type": "code",
   "execution_count": null,
   "metadata": {},
   "outputs": [],
   "source": [
    "area(12, 6)"
   ]
  },
  {
   "cell_type": "code",
   "execution_count": null,
   "metadata": {},
   "outputs": [],
   "source": [
    "perimeter(12, 6)"
   ]
  },
  {
   "cell_type": "code",
   "execution_count": null,
   "metadata": {},
   "outputs": [],
   "source": [
    "def fiver():\n",
    "    from random import choices\n",
    "    data = list(range(1, 101))\n",
    "    return choices(data, k=5)"
   ]
  },
  {
   "cell_type": "code",
   "execution_count": null,
   "metadata": {},
   "outputs": [],
   "source": [
    "print(fiver())"
   ]
  },
  {
   "cell_type": "code",
   "execution_count": null,
   "metadata": {},
   "outputs": [],
   "source": [
    "trial_1 = fiver()\n",
    "trial_2 = fiver()\n",
    "print(trial_1)\n",
    "print(trial_2)"
   ]
  },
  {
   "cell_type": "code",
   "execution_count": null,
   "metadata": {},
   "outputs": [],
   "source": [
    "def area_of_circle(r):\n",
    "    return 3.142 * r ** 2"
   ]
  },
  {
   "cell_type": "code",
   "execution_count": null,
   "metadata": {},
   "outputs": [],
   "source": [
    "radius = int(input('Enter the radius of the circle: '))\n",
    "ans = area_of_circle(radius)\n",
    "print(f'Area of the circle with radius: {radius} is {ans:.2f}')"
   ]
  },
  {
   "cell_type": "markdown",
   "metadata": {},
   "source": [
    "### waf to remove all the vowels from a string passed as a parameter"
   ]
  },
  {
   "cell_type": "code",
   "execution_count": null,
   "metadata": {},
   "outputs": [],
   "source": [
    "def vow(a :str):\n",
    "    return a.replace('a','').replace('e','').replace('i','').replace('o','').replace('u','')"
   ]
  },
  {
   "cell_type": "code",
   "execution_count": null,
   "metadata": {},
   "outputs": [],
   "source": [
    "def vowel_remover(sentence):\n",
    "    for v in 'aeiouAEIOU':\n",
    "        sentence = sentence.replace(v, '')\n",
    "    return sentence"
   ]
  },
  {
   "cell_type": "code",
   "execution_count": null,
   "metadata": {},
   "outputs": [],
   "source": [
    "vow('this is sparta')"
   ]
  },
  {
   "cell_type": "code",
   "execution_count": null,
   "metadata": {},
   "outputs": [],
   "source": [
    "vowel_remover('this is sparta')"
   ]
  },
  {
   "cell_type": "code",
   "execution_count": null,
   "metadata": {},
   "outputs": [],
   "source": [
    "def summer(a, b, c=0, d=0):\n",
    "    return a + b + c + d"
   ]
  },
  {
   "cell_type": "code",
   "execution_count": null,
   "metadata": {},
   "outputs": [],
   "source": [
    "print(summer(10, 20))\n",
    "print(summer(2, 3, 5)) # positional arguments\n",
    "print(summer(2, 3, d=12)) # named arguments (keyword arguments)\n",
    "print(summer(2, 3, d=12, c=5)) # named arguments allows changing the order of the arguments\n",
    "print(summer(5, 5, c=5, d=10))\n",
    "print(summer(a=10, b=20, c=30, d=40))\n",
    "print(summer(b=20, a=10, d=40, c=30))\n",
    "print(summer(10, b=20, c=30, d=40))"
   ]
  },
  {
   "cell_type": "markdown",
   "metadata": {},
   "source": [
    "lambda expression - anonymous function\n",
    "\n",
    "`f(x) = x + 5 * x - 2`\n",
    "\n",
    "`f(2)`\n",
    "\n",
    "`g(x, y) = x + y / 2`\n",
    "\n",
    "`g(2,3)`"
   ]
  },
  {
   "cell_type": "code",
   "execution_count": 82,
   "metadata": {},
   "outputs": [
    {
     "name": "stdout",
     "output_type": "stream",
     "text": [
      "<function <lambda> at 0x00000218D858C900>\n"
     ]
    }
   ],
   "source": [
    "f = lambda x: x + 5 * x - 2\n",
    "g = lambda x, y: x + y / 2\n",
    "print(f) # not needed"
   ]
  },
  {
   "cell_type": "code",
   "execution_count": 84,
   "metadata": {},
   "outputs": [
    {
     "name": "stdout",
     "output_type": "stream",
     "text": [
      "10\n",
      "28\n",
      "58\n",
      "3.5\n",
      "7.5\n",
      "6.0\n",
      "3.5\n"
     ]
    }
   ],
   "source": [
    "print(f(2))\n",
    "print(f(5))\n",
    "print(f(10))\n",
    "print(g(2,3))\n",
    "print(g(5,5))\n",
    "print(g(5,2))\n",
    "ans = g(2, 3)\n",
    "print(ans)"
   ]
  },
  {
   "cell_type": "code",
   "execution_count": 86,
   "metadata": {},
   "outputs": [
    {
     "name": "stdout",
     "output_type": "stream",
     "text": [
      "12.568\n",
      "10\n"
     ]
    }
   ],
   "source": [
    "ac = lambda r: 3.142 * r ** 2\n",
    "perimeter = lambda l, b: 2 * (l + b)\n",
    "print(ac(2))\n",
    "print(perimeter(2, 3))"
   ]
  },
  {
   "cell_type": "code",
   "execution_count": null,
   "metadata": {},
   "outputs": [],
   "source": []
  }
 ],
 "metadata": {
  "kernelspec": {
   "display_name": "base",
   "language": "python",
   "name": "python3"
  },
  "language_info": {
   "codemirror_mode": {
    "name": "ipython",
    "version": 3
   },
   "file_extension": ".py",
   "mimetype": "text/x-python",
   "name": "python",
   "nbconvert_exporter": "python",
   "pygments_lexer": "ipython3",
   "version": "3.12.2"
  }
 },
 "nbformat": 4,
 "nbformat_minor": 2
}

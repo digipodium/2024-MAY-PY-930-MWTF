{
 "cells": [
  {
   "cell_type": "code",
   "execution_count": null,
   "metadata": {},
   "outputs": [],
   "source": [
    "from dputils.scrape import Scraper, Tag"
   ]
  },
  {
   "cell_type": "code",
   "execution_count": null,
   "metadata": {},
   "outputs": [],
   "source": [
    "url = 'https://www.flipkart.com/motorola-edge-50-pro-5g-68w-charger-black-beauty-256-gb/p/itmb3f6625c5c896?pid=MOBGXFXYDG8YRZU4&lid=LSTMOBGXFXYDG8YRZU4SAX9WW&marketplace=FLIPKART&store=tyy%2F4io&srno=b_1_1&otracker=browse&fm=organic&iid=ace38f80-151a-41b0-a079-b620b88b8ec9.MOBGXFXYDG8YRZU4.SEARCH&ppt=hp&ppn=homepage&ssid=vj43l0oe680000001721542596100'\n",
    "s1 = Scraper(url)"
   ]
  },
  {
   "cell_type": "code",
   "execution_count": null,
   "metadata": {},
   "outputs": [],
   "source": [
    "heading= Tag('h1', cls='_6EBuvT')\n",
    "price = Tag(cls='Nx9bqj CxhGGd')\n",
    "desc = Tag(cls='U+9u4y')\n",
    "review = Tag(cls='RcXBOT')\n",
    "results = s1.get_data_from_page(heading=heading, price=price, desc=desc, review=review)\n"
   ]
  },
  {
   "cell_type": "markdown",
   "metadata": {},
   "source": [
    "multiple items from a single page"
   ]
  },
  {
   "cell_type": "code",
   "execution_count": null,
   "metadata": {},
   "outputs": [],
   "source": [
    "items = Tag(cls='cPHDOP col-12-12')\n",
    "url = \"https://www.flipkart.com/tyy/4io/~cs-33irmtdz82/pr?sid=tyy%2C4io&collection-tab-name=Moto+Edge+50+pro+5g&param=279892&ctx=eyJjYXJkQ29udGV4dCI6eyJhdHRyaWJ1dGVzIjp7InZhbHVlQ2FsbG91dCI6eyJtdWx0aVZhbHVlZEF0dHJpYnV0ZSI6eyJrZXkiOiJ2YWx1ZUNhbGxvdXQiLCJpbmZlcmVuY2VUeXBlIjoiVkFMVUVfQ0FMTE9VVCIsInZhbHVlcyI6WyJGcm9tIOKCuTI3LDk5OSoiXSwidmFsdWVUeXBlIjoiTVVMVElfVkFMVUVEIn19LCJ0aXRsZSI6eyJtdWx0aVZhbHVlZEF0dHJpYnV0ZSI6eyJrZXkiOiJ0aXRsZSIsImluZmVyZW5jZVR5cGUiOiJUSVRMRSIsInZhbHVlcyI6WyJtb3Rvcm9sYSBlZGdlIDUwIFBybyJdLCJ2YWx1ZVR5cGUiOiJNVUxUSV9WQUxVRUQifX0sImhlcm9QaWQiOnsic2luZ2xlVmFsdWVBdHRyaWJ1dGUiOnsia2V5IjoiaGVyb1BpZCIsImluZmVyZW5jZVR5cGUiOiJQSUQiLCJ2YWx1ZSI6Ik1PQkdYRlhZTVRLQU1QVFMiLCJ2YWx1ZVR5cGUiOiJTSU5HTEVfVkFMVUVEIn19fX19\"\n",
    "s2 = Scraper(url)\n",
    "results = s2.get_repeating_date_from_page(\n",
    "    target = Tag('body'),\n",
    "    items = items,\n",
    "    title = Tag(cls='KzDlHZ'),\n",
    "    price = Tag(cls='Nx9bqj _4b5DiR'),\n",
    "    ratings = Tag('span', cls='Wphh3N')\n",
    ")"
   ]
  },
  {
   "cell_type": "code",
   "execution_count": null,
   "metadata": {},
   "outputs": [],
   "source": [
    "import pandas as pd\n",
    "pd.DataFrame(results)"
   ]
  },
  {
   "cell_type": "code",
   "execution_count": 18,
   "metadata": {},
   "outputs": [
    {
     "data": {
      "text/html": [
       "<div>\n",
       "<style scoped>\n",
       "    .dataframe tbody tr th:only-of-type {\n",
       "        vertical-align: middle;\n",
       "    }\n",
       "\n",
       "    .dataframe tbody tr th {\n",
       "        vertical-align: top;\n",
       "    }\n",
       "\n",
       "    .dataframe thead th {\n",
       "        text-align: right;\n",
       "    }\n",
       "</style>\n",
       "<table border=\"1\" class=\"dataframe\">\n",
       "  <thead>\n",
       "    <tr style=\"text-align: right;\">\n",
       "      <th></th>\n",
       "      <th>title</th>\n",
       "      <th>brand</th>\n",
       "    </tr>\n",
       "  </thead>\n",
       "  <tbody>\n",
       "    <tr>\n",
       "      <th>2</th>\n",
       "      <td>Flash Casual Sneakers Riding Shoes for Men | S...</td>\n",
       "      <td>Campus</td>\n",
       "    </tr>\n",
       "    <tr>\n",
       "      <th>3</th>\n",
       "      <td>North Plus Sports Running Walking Gym Shoes fo...</td>\n",
       "      <td>Campus</td>\n",
       "    </tr>\n",
       "    <tr>\n",
       "      <th>4</th>\n",
       "      <td>Men's Atlantis Running Shoes</td>\n",
       "      <td>Campus</td>\n",
       "    </tr>\n",
       "    <tr>\n",
       "      <th>5</th>\n",
       "      <td>Maxico Men's Running, Jogging, Gym, Sports, an...</td>\n",
       "      <td>Campus</td>\n",
       "    </tr>\n",
       "    <tr>\n",
       "      <th>6</th>\n",
       "      <td>Men's Dazzler Sneakers</td>\n",
       "      <td>Puma</td>\n",
       "    </tr>\n",
       "    <tr>\n",
       "      <th>...</th>\n",
       "      <td>...</td>\n",
       "      <td>...</td>\n",
       "    </tr>\n",
       "    <tr>\n",
       "      <th>70</th>\n",
       "      <td>Mens Ree Fusion M Sneaker</td>\n",
       "      <td>Reebok</td>\n",
       "    </tr>\n",
       "    <tr>\n",
       "      <th>71</th>\n",
       "      <td>Mens Ree Fusion M Sneaker</td>\n",
       "      <td>Reebok</td>\n",
       "    </tr>\n",
       "    <tr>\n",
       "      <th>72</th>\n",
       "      <td>Mens Energy Runner Lp Running Shoes</td>\n",
       "      <td>Reebok</td>\n",
       "    </tr>\n",
       "    <tr>\n",
       "      <th>73</th>\n",
       "      <td>Mens Boston Runner M Running Shoe</td>\n",
       "      <td>Reebok</td>\n",
       "    </tr>\n",
       "    <tr>\n",
       "      <th>74</th>\n",
       "      <td>Mens Sx0812g Sneaker</td>\n",
       "      <td>SPARX</td>\n",
       "    </tr>\n",
       "  </tbody>\n",
       "</table>\n",
       "<p>71 rows × 2 columns</p>\n",
       "</div>"
      ],
      "text/plain": [
       "                                                title   brand\n",
       "2   Flash Casual Sneakers Riding Shoes for Men | S...  Campus\n",
       "3   North Plus Sports Running Walking Gym Shoes fo...  Campus\n",
       "4                        Men's Atlantis Running Shoes  Campus\n",
       "5   Maxico Men's Running, Jogging, Gym, Sports, an...  Campus\n",
       "6                              Men's Dazzler Sneakers    Puma\n",
       "..                                                ...     ...\n",
       "70                          Mens Ree Fusion M Sneaker  Reebok\n",
       "71                          Mens Ree Fusion M Sneaker  Reebok\n",
       "72                Mens Energy Runner Lp Running Shoes  Reebok\n",
       "73                  Mens Boston Runner M Running Shoe  Reebok\n",
       "74                               Mens Sx0812g Sneaker   SPARX\n",
       "\n",
       "[71 rows x 2 columns]"
      ]
     },
     "execution_count": 18,
     "metadata": {},
     "output_type": "execute_result"
    }
   ],
   "source": [
    "items = Tag(cls='s-result-item')\n",
    "title = Tag('span', cls='a-size-base-plus a-color-base a-text-normal')\n",
    "url ='https://www.amazon.in/s?k=shoes&crid=2OAOAMZS2EVJY&sprefix=shoe%2Caps%2C306&ref=nb_sb_noss_1'\n",
    "s3 = Scraper(url)\n",
    "results = s3.get_repeating_date_from_page(\n",
    "    target = Tag('body'),\n",
    "    items = items,\n",
    "    title = title,\n",
    "    brand = Tag('h2', cls='a-size-mini s-line-clamp-1')\n",
    ")\n",
    "pd.DataFrame(results).dropna()"
   ]
  },
  {
   "cell_type": "code",
   "execution_count": 20,
   "metadata": {},
   "outputs": [],
   "source": [
    "start = 1\n",
    "term = 'shoes'\n",
    "all_data = []\n",
    "while True:\n",
    "    url = f\"https://www.amazon.in/s?k={term}&page={start}&crid=2OAOAMZS2EVJY&qid=1721544045&sprefix=shoe%2Caps%2C306&ref=sr_pg_2\"\n",
    "    sc = Scraper(url)\n",
    "    results = sc.get_repeating_date_from_page(\n",
    "        target = Tag('body'),\n",
    "        items = items,\n",
    "        title = title,\n",
    "        brand = Tag('h2', cls='a-size-mini s-line-clamp-1')\n",
    "    )\n",
    "    if len(results) == 0:\n",
    "        break\n",
    "    all_data.extend(results)\n",
    "    start += 1\n",
    "\n",
    "df = pd.DataFrame(all_data).dropna()\n",
    "df"
   ]
  },
  {
   "cell_type": "code",
   "execution_count": null,
   "metadata": {},
   "outputs": [],
   "source": []
  }
 ],
 "metadata": {
  "kernelspec": {
   "display_name": "base",
   "language": "python",
   "name": "python3"
  },
  "language_info": {
   "codemirror_mode": {
    "name": "ipython",
    "version": 3
   },
   "file_extension": ".py",
   "mimetype": "text/x-python",
   "name": "python",
   "nbconvert_exporter": "python",
   "pygments_lexer": "ipython3",
   "version": "3.12.2"
  }
 },
 "nbformat": 4,
 "nbformat_minor": 2
}

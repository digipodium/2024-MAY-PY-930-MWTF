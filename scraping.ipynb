{
 "cells": [
  {
   "cell_type": "code",
   "execution_count": 1,
   "metadata": {},
   "outputs": [],
   "source": [
    "from dputils.scrape import Scraper, Tag"
   ]
  },
  {
   "cell_type": "code",
   "execution_count": null,
   "metadata": {},
   "outputs": [],
   "source": [
    "url = 'https://www.flipkart.com/motorola-edge-50-pro-5g-68w-charger-black-beauty-256-gb/p/itmb3f6625c5c896?pid=MOBGXFXYDG8YRZU4&lid=LSTMOBGXFXYDG8YRZU4SAX9WW&marketplace=FLIPKART&store=tyy%2F4io&srno=b_1_1&otracker=browse&fm=organic&iid=ace38f80-151a-41b0-a079-b620b88b8ec9.MOBGXFXYDG8YRZU4.SEARCH&ppt=hp&ppn=homepage&ssid=vj43l0oe680000001721542596100'\n",
    "s1 = Scraper(url)"
   ]
  },
  {
   "cell_type": "code",
   "execution_count": null,
   "metadata": {},
   "outputs": [],
   "source": [
    "heading= Tag('h1', cls='_6EBuvT')\n",
    "price = Tag(cls='Nx9bqj CxhGGd')\n",
    "desc = Tag(cls='U+9u4y')\n",
    "review = Tag(cls='RcXBOT')\n",
    "results = s1.get_data_from_page(heading=heading, price=price, desc=desc, review=review)\n"
   ]
  },
  {
   "cell_type": "markdown",
   "metadata": {},
   "source": [
    "multiple items from a single page"
   ]
  },
  {
   "cell_type": "code",
   "execution_count": null,
   "metadata": {},
   "outputs": [],
   "source": [
    "items = Tag(cls='cPHDOP col-12-12')\n",
    "url = \"https://www.flipkart.com/tyy/4io/~cs-33irmtdz82/pr?sid=tyy%2C4io&collection-tab-name=Moto+Edge+50+pro+5g&param=279892&ctx=eyJjYXJkQ29udGV4dCI6eyJhdHRyaWJ1dGVzIjp7InZhbHVlQ2FsbG91dCI6eyJtdWx0aVZhbHVlZEF0dHJpYnV0ZSI6eyJrZXkiOiJ2YWx1ZUNhbGxvdXQiLCJpbmZlcmVuY2VUeXBlIjoiVkFMVUVfQ0FMTE9VVCIsInZhbHVlcyI6WyJGcm9tIOKCuTI3LDk5OSoiXSwidmFsdWVUeXBlIjoiTVVMVElfVkFMVUVEIn19LCJ0aXRsZSI6eyJtdWx0aVZhbHVlZEF0dHJpYnV0ZSI6eyJrZXkiOiJ0aXRsZSIsImluZmVyZW5jZVR5cGUiOiJUSVRMRSIsInZhbHVlcyI6WyJtb3Rvcm9sYSBlZGdlIDUwIFBybyJdLCJ2YWx1ZVR5cGUiOiJNVUxUSV9WQUxVRUQifX0sImhlcm9QaWQiOnsic2luZ2xlVmFsdWVBdHRyaWJ1dGUiOnsia2V5IjoiaGVyb1BpZCIsImluZmVyZW5jZVR5cGUiOiJQSUQiLCJ2YWx1ZSI6Ik1PQkdYRlhZTVRLQU1QVFMiLCJ2YWx1ZVR5cGUiOiJTSU5HTEVfVkFMVUVEIn19fX19\"\n",
    "s2 = Scraper(url)\n",
    "results = s2.get_repeating_date_from_page(\n",
    "    target = Tag('body'),\n",
    "    items = items,\n",
    "    title = Tag(cls='KzDlHZ'),\n",
    "    price = Tag(cls='Nx9bqj _4b5DiR'),\n",
    "    ratings = Tag('span', cls='Wphh3N')\n",
    ")"
   ]
  },
  {
   "cell_type": "code",
   "execution_count": null,
   "metadata": {},
   "outputs": [],
   "source": [
    "import pandas as pd\n",
    "pd.DataFrame(results)"
   ]
  },
  {
   "cell_type": "code",
   "execution_count": 18,
   "metadata": {},
   "outputs": [
    {
     "data": {
      "text/html": [
       "<div>\n",
       "<style scoped>\n",
       "    .dataframe tbody tr th:only-of-type {\n",
       "        vertical-align: middle;\n",
       "    }\n",
       "\n",
       "    .dataframe tbody tr th {\n",
       "        vertical-align: top;\n",
       "    }\n",
       "\n",
       "    .dataframe thead th {\n",
       "        text-align: right;\n",
       "    }\n",
       "</style>\n",
       "<table border=\"1\" class=\"dataframe\">\n",
       "  <thead>\n",
       "    <tr style=\"text-align: right;\">\n",
       "      <th></th>\n",
       "      <th>title</th>\n",
       "      <th>brand</th>\n",
       "    </tr>\n",
       "  </thead>\n",
       "  <tbody>\n",
       "    <tr>\n",
       "      <th>2</th>\n",
       "      <td>Flash Casual Sneakers Riding Shoes for Men | S...</td>\n",
       "      <td>Campus</td>\n",
       "    </tr>\n",
       "    <tr>\n",
       "      <th>3</th>\n",
       "      <td>North Plus Sports Running Walking Gym Shoes fo...</td>\n",
       "      <td>Campus</td>\n",
       "    </tr>\n",
       "    <tr>\n",
       "      <th>4</th>\n",
       "      <td>Men's Atlantis Running Shoes</td>\n",
       "      <td>Campus</td>\n",
       "    </tr>\n",
       "    <tr>\n",
       "      <th>5</th>\n",
       "      <td>Maxico Men's Running, Jogging, Gym, Sports, an...</td>\n",
       "      <td>Campus</td>\n",
       "    </tr>\n",
       "    <tr>\n",
       "      <th>6</th>\n",
       "      <td>Men's Dazzler Sneakers</td>\n",
       "      <td>Puma</td>\n",
       "    </tr>\n",
       "    <tr>\n",
       "      <th>...</th>\n",
       "      <td>...</td>\n",
       "      <td>...</td>\n",
       "    </tr>\n",
       "    <tr>\n",
       "      <th>70</th>\n",
       "      <td>Mens Ree Fusion M Sneaker</td>\n",
       "      <td>Reebok</td>\n",
       "    </tr>\n",
       "    <tr>\n",
       "      <th>71</th>\n",
       "      <td>Mens Ree Fusion M Sneaker</td>\n",
       "      <td>Reebok</td>\n",
       "    </tr>\n",
       "    <tr>\n",
       "      <th>72</th>\n",
       "      <td>Mens Energy Runner Lp Running Shoes</td>\n",
       "      <td>Reebok</td>\n",
       "    </tr>\n",
       "    <tr>\n",
       "      <th>73</th>\n",
       "      <td>Mens Boston Runner M Running Shoe</td>\n",
       "      <td>Reebok</td>\n",
       "    </tr>\n",
       "    <tr>\n",
       "      <th>74</th>\n",
       "      <td>Mens Sx0812g Sneaker</td>\n",
       "      <td>SPARX</td>\n",
       "    </tr>\n",
       "  </tbody>\n",
       "</table>\n",
       "<p>71 rows × 2 columns</p>\n",
       "</div>"
      ],
      "text/plain": [
       "                                                title   brand\n",
       "2   Flash Casual Sneakers Riding Shoes for Men | S...  Campus\n",
       "3   North Plus Sports Running Walking Gym Shoes fo...  Campus\n",
       "4                        Men's Atlantis Running Shoes  Campus\n",
       "5   Maxico Men's Running, Jogging, Gym, Sports, an...  Campus\n",
       "6                              Men's Dazzler Sneakers    Puma\n",
       "..                                                ...     ...\n",
       "70                          Mens Ree Fusion M Sneaker  Reebok\n",
       "71                          Mens Ree Fusion M Sneaker  Reebok\n",
       "72                Mens Energy Runner Lp Running Shoes  Reebok\n",
       "73                  Mens Boston Runner M Running Shoe  Reebok\n",
       "74                               Mens Sx0812g Sneaker   SPARX\n",
       "\n",
       "[71 rows x 2 columns]"
      ]
     },
     "execution_count": 18,
     "metadata": {},
     "output_type": "execute_result"
    }
   ],
   "source": [
    "items = Tag(cls='s-result-item')\n",
    "title = Tag('span', cls='a-size-base-plus a-color-base a-text-normal')\n",
    "url ='https://www.amazon.in/s?k=shoes&crid=2OAOAMZS2EVJY&sprefix=shoe%2Caps%2C306&ref=nb_sb_noss_1'\n",
    "s3 = Scraper(url)\n",
    "results = s3.get_repeating_date_from_page(\n",
    "    target = Tag('body'),\n",
    "    items = items,\n",
    "    title = title,\n",
    "    brand = Tag('h2', cls='a-size-mini s-line-clamp-1')\n",
    ")\n",
    "pd.DataFrame(results).dropna()"
   ]
  },
  {
   "cell_type": "code",
   "execution_count": 20,
   "metadata": {},
   "outputs": [],
   "source": [
    "start = 1\n",
    "term = 'shoes'\n",
    "all_data = []\n",
    "while True:\n",
    "    url = f\"https://www.amazon.in/s?k={term}&page={start}&crid=2OAOAMZS2EVJY&qid=1721544045&sprefix=shoe%2Caps%2C306&ref=sr_pg_2\"\n",
    "    sc = Scraper(url)\n",
    "    results = sc.get_repeating_date_from_page(\n",
    "        target = Tag('body'),\n",
    "        items = items,\n",
    "        title = title,\n",
    "        brand = Tag('h2', cls='a-size-mini s-line-clamp-1')\n",
    "    )\n",
    "    if len(results) == 0:\n",
    "        break\n",
    "    all_data.extend(results)\n",
    "    start += 1\n",
    "\n",
    "df = pd.DataFrame(all_data).dropna()\n",
    "df"
   ]
  },
  {
   "cell_type": "code",
   "execution_count": 2,
   "metadata": {},
   "outputs": [
    {
     "data": {
      "text/plain": [
       "[{'image': 'https://c.ndtvimg.com/2024-07/5hctb05g_joe-biden_625x300_22_July_24.jpg?im=FeatureCrop,algorithm=dnn,width=240,height=180',\n",
       "  'title': 'Hours After Biden Drops Out, Kamala Harris Receives $46 Million Donation',\n",
       "  'post': 'Agence France-Presse   | Monday July 22, 2024, Washington                                                        \\n                                                        ',\n",
       "  'content': 'Democratic fundraising group ActBlue said Sunday evening that it had seen its biggest single-day haul of the 2024 election after US President Joe Biden dropped out and endorsed Vice President Kamala Harris.'},\n",
       " {'image': 'https://c.ndtvimg.com/2024-07/tt0ndfr8_gambhir-x_625x300_22_July_24.jpeg',\n",
       "  'title': \"India Head Coach Gautam Gambhir's First Press Conference Live Streaming: When and Where To Watch?\",\n",
       "  'post': 'NDTV Sports Desk   | Monday July 22, 2024                                                        \\n                                                        ',\n",
       "  'content': \"The Indian cricket team's upcoming tour to Sri Lanka will be the first assignment for newly-appointed head coach Gautam Gambhir.\"},\n",
       " {'image': 'https://i.ndtvimg.com/i/2017-10/exam-result_650x400_51508568554.jpg?im=FeatureCrop,algorithm=dnn,width=240,height=180',\n",
       "  'title': 'West Bengal Primary TET Result 2024 To Be Released Soon',\n",
       "  'post': '\\n\\t\\t\\t\\t\\t\\t\\t\\t\\t\\t\\t\\t\\t\\t\\tEdited by Lavkesh Singh  | Monday July 22, 2024                                                        \\n                                                        ',\n",
       "  'content': 'WB Primary TET Result 2024: Candidates who have taken the exam can check and download their results by visiting the official site.'},\n",
       " {'image': None, 'title': None, 'post': None, 'content': None},\n",
       " {'image': 'https://c.ndtvimg.com/2024-07/9g6gf9b8_ben-stokes-doppelganger-x-englandcricket_625x300_21_July_24.jpg?im=FeatureCrop,algorithm=dnn,width=240,height=180',\n",
       "  'title': \"Watch: Ben Stokes' Priceless Reaction After Spotting His Doppelganger Leaves Everyone In Splits\",\n",
       "  'post': 'NDTV Sports Desk   | Monday July 22, 2024                                                        \\n                                                        ',\n",
       "  'content': \"Ben Stokes gave a funny reaction after spotting his look-alike in the crowd during his team's second Test match against West Indies at Trent Bridge.\"},\n",
       " {'image': 'https://c.ndtvimg.com/2023-09/j7rett2o_ruturaj-gaikwad-afp_625x300_28_September_23.jpg?im=FeatureCrop,algorithm=dnn,width=240,height=180',\n",
       "  'title': '\"What Has He Done?\": Ex-India Star Questions Ruturaj Gaikwad\\'s Snub From Sri Lanka Tour',\n",
       "  'post': 'NDTV Sports Desk   | Monday July 22, 2024                                                        \\n                                                        ',\n",
       "  'content': 'BCCI on July 18 announced the squads for the upcoming Sri Lanka tour. Among the surprise omissions was Ruturaj Gaikwad.'},\n",
       " {'image': 'https://c.ndtvimg.com/2024-07/59v82oc8_trump_625x300_22_July_24.jpg?im=FeatureCrop,algorithm=dnn,width=240,height=180',\n",
       "  'title': '\"Lies, Cheats, Rapes\": Indian-Origin Billionaire vs Elon Musk Over Trump',\n",
       "  'post': '\\n\\t\\t\\t\\t\\t\\t\\t\\t\\t\\t\\t\\t\\t\\t\\tEdited by Aditi Gautam  | Monday July 22, 2024                                                        \\n                                                        ',\n",
       "  'content': 'Prominent Indian-American businessman Vinod Khosla and billionaire Elon Musk engaged in a war of words this morning after Joe Biden dropped out of the presidential race against Republican rival Donald Trump.'},\n",
       " {'image': None, 'title': None, 'post': None, 'content': None},\n",
       " {'image': 'https://c.ndtvimg.com/2024-07/4gpd7pgo_hardik-pandya-x_625x300_17_July_24.jpeg?im=FeatureCrop,algorithm=dnn,width=240,height=180',\n",
       "  'title': '\"Injustice\" Calls Intensify As Hardik Pandya Gets Snubbed For T20I Captaincy',\n",
       "  'post': 'NDTV Sports Desk   | Monday July 22, 2024                                                        \\n                                                        ',\n",
       "  'content': \"Hardik Pandya's career has been on a roller-coaster over the last 6 months, with several twists and turns taking place.\"},\n",
       " {'image': 'https://c.ndtvimg.com/2024-07/16tsc1a8_kamala-harris-afp_625x300_22_July_24.jpg?im=FeatureCrop,algorithm=dnn,width=240,height=180',\n",
       "  'title': \"Kamala Harris, Trailblazer Eying America's Last Glass Ceiling\",\n",
       "  'post': 'Agence France-Presse   | Monday July 22, 2024, Washington                                                        \\n                                                        ',\n",
       "  'content': \"For years Kamala Harris faced criticism that she was not up to the job of being a heartbeat away from the US presidency. Now, she finds herself feted by Democrats as their best hope to stop Donald Trump's comeback.\"},\n",
       " {'image': 'https://c.ndtvimg.com/2024-07/r5eouhrg_joe-biden-new_625x300_22_July_24.jpeg?im=FeatureCrop,algorithm=dnn,width=240,height=180',\n",
       "  'title': \"Republicans Call For Biden's Resignation, Democrats Hail Legacy\",\n",
       "  'post': 'Agence France-Presse   | Monday July 22, 2024, Washington                                                        \\n                                                        ',\n",
       "  'content': \"Leading Democrats were quick to hail Joe Biden's legacy on Sunday after the US president's historic decision to end his reelection bid, while Republicans instead demanded his resignation.\"},\n",
       " {'image': 'https://c.ndtvimg.com/2024-06/9mga7t98_lok-sabha-generic-ani-_625x300_26_June_24.jpeg?im=FeatureCrop,algorithm=dnn,width=240,height=180',\n",
       "  'title': 'BJP Braces For Opposition Storm As Budget Session Begins Today: 10 Points',\n",
       "  'post': '\\n\\t\\t\\t\\t\\t\\t\\t\\t\\t\\t\\t\\t\\t\\t\\tReported by Akhilesh Sharma, Edited by Anindita Sanyal  | Monday July 22, 2024, New Delhi                                                        \\n                                                        ',\n",
       "  'content': \"Parliament's budget session will begin today under the shadow of multiple controversies including Kanwar Yatra, NEET and Manipur. Three states, two of them ruled by allies, are demanding special status. The Union budget will be presented on Tuesday.\"},\n",
       " {'image': 'https://c.ndtvimg.com/2024-07/7iud6fro_philippines-and-china-agreement_625x300_22_July_24.jpg?im=FitAndFill,algorithm=dnn,width=240,height=180',\n",
       "  'title': 'Philippines, China Reach \"Arrangement\" For South China Sea Resupply Missions',\n",
       "  'post': 'Agence France-Presse   | Monday July 22, 2024, Manila                                                        \\n                                                        ',\n",
       "  'content': 'The Philippines and China have agreed on an \"arrangement\" for resupplying Filipino troops stationed on a South China Sea reef, Manila said Sunday, after a series of escalating confrontations in the disputed waters.'},\n",
       " {'image': 'https://c.ndtvimg.com/2024-07/md38av2o_kamala-harris_625x300_22_July_24.jpg?im=FitAndFill,algorithm=dnn,width=240,height=180',\n",
       "  'title': \"A Look At US Vice President Kamala Harris' View On Key Business Topics\",\n",
       "  'post': 'Reuters   | Monday July 22, 2024, Washington                                                        \\n                                                        ',\n",
       "  'content': 'U.S. Vice President Kamala Harris is potentially poised to become the Democratic presidential nominee in the November election. Here are her views and actions related to some key business topics.'},\n",
       " {'image': 'https://c.ndtvimg.com/2024-07/scc1vsuo_kamala-harris_625x300_22_July_24.jpeg?im=FaceCrop,algorithm=dnn,width=240,height=180',\n",
       "  'title': 'Tougher Tone On Israel, Steady On NATO: What A Kamala Harris Foreign Policy Could Look Like',\n",
       "  'post': 'Reuters   | Monday July 22, 2024, Washington                                                        \\n                                                        ',\n",
       "  'content': \"Vice President Kamala Harris is expected to stick largely to Joe Biden's foreign policy playbook on key issues such as Ukraine, China and Iran but could strike a tougher tone with Israel over the Gaza war if she replaces the president at the top of t\"},\n",
       " {'image': 'https://c.ndtvimg.com/2024-07/k3uvuq4g_biden-harris_625x300_22_July_24.jpg?im=FitAndFill,algorithm=dnn,width=240,height=180',\n",
       "  'title': \"Biden's Exit From US Election Offers Opportunities, Pitfalls For Democrats\",\n",
       "  'post': 'Agence France-Presse   | Monday July 22, 2024, Washington                                                        \\n                                                        ',\n",
       "  'content': \"Joe Biden's withdrawal from the US election offers Democrats the precious opportunity for a late reset in a campaign that was going badly -- but ushers in an uncertain few weeks that will make or break their chances against Donald Trump.\"},\n",
       " {'image': 'https://c.ndtvimg.com/2024-07/tgl0uiso_kamala-harris-new_625x300_22_July_24.jpg?im=FitAndFill,algorithm=dnn,width=240,height=180',\n",
       "  'title': 'All Democratic Party US State Chairs Back Kamala Harris To Be Presidential Nominee: Report',\n",
       "  'post': 'Reuters   | Monday July 22, 2024, Washington                                                        \\n                                                        ',\n",
       "  'content': \"All 50 Democratic party state chairs have thrown their weight behind Vice President Kamala Harris to be the party's new presidential nominee, according to sources familiar with the matter.\"}]"
      ]
     },
     "execution_count": 2,
     "metadata": {},
     "output_type": "execute_result"
    }
   ],
   "source": [
    "url='https://www.ndtv.com/latest/page-2'\n",
    "news_scraper = Scraper(url)\n",
    "items = Tag(cls='news_Itm')\n",
    "img_src = Tag('img', output='src')\n",
    "title = Tag('h2', cls='newsHdng')\n",
    "post = Tag('span', cls='posted-by')\n",
    "content = Tag('p', cls='newsCont')\n",
    "target = Tag('body')\n",
    "news_scraper.get_repeating_date_from_page(\n",
    "    target = target, items=items, \n",
    "    image=img_src, title=title, \n",
    "    post=post, content=content\n",
    ")"
   ]
  },
  {
   "cell_type": "code",
   "execution_count": null,
   "metadata": {},
   "outputs": [],
   "source": []
  }
 ],
 "metadata": {
  "kernelspec": {
   "display_name": "base",
   "language": "python",
   "name": "python3"
  },
  "language_info": {
   "codemirror_mode": {
    "name": "ipython",
    "version": 3
   },
   "file_extension": ".py",
   "mimetype": "text/x-python",
   "name": "python",
   "nbconvert_exporter": "python",
   "pygments_lexer": "ipython3",
   "version": "3.12.2"
  }
 },
 "nbformat": 4,
 "nbformat_minor": 2
}

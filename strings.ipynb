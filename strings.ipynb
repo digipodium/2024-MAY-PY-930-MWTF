{
 "cells": [
  {
   "cell_type": "markdown",
   "metadata": {},
   "source": [
    "- creating\n",
    "- indexing and slicing\n",
    "- methods\n",
    "- tips n tricks"
   ]
  },
  {
   "cell_type": "code",
   "execution_count": null,
   "metadata": {},
   "outputs": [],
   "source": [
    "a = 'apple'\n",
    "b = \"apple\"\n",
    "c = '''this is \n",
    "very useful\n",
    "in multiline messages\n",
    "'''\n",
    "d = str(8329)"
   ]
  },
  {
   "cell_type": "code",
   "execution_count": null,
   "metadata": {},
   "outputs": [],
   "source": [
    "# types of strings\n",
    "# f-string\n",
    "x = f'{a} is a fruit'\n",
    "print(x)\n",
    "# raw string\n",
    "addr = r'c:\\users\\zaid\\desktop'\n",
    "print(addr)\n",
    "# unicode string\n",
    "uni = u'hello'\n",
    "print(uni)\n",
    "# byte string\n",
    "byt = b'hello'\n",
    "print(byt)"
   ]
  },
  {
   "cell_type": "code",
   "execution_count": null,
   "metadata": {},
   "outputs": [],
   "source": [
    "v = 'encyclopedia'\n",
    "print(v[0]) # first index\n",
    "print(v[1]) # second index\n",
    "print(v[2]) # third index\n",
    "print(v[11]) # last index\n",
    "print(v[-1]) # last index\n",
    "print(v[-12]) # first index\n",
    "print('second last', v[-2])\n",
    "print('sixth last', v[-6])"
   ]
  },
  {
   "cell_type": "markdown",
   "metadata": {},
   "source": [
    "slicing in python\n",
    "```\n",
    "x[start : stop ]\n",
    "```"
   ]
  },
  {
   "cell_type": "code",
   "execution_count": null,
   "metadata": {},
   "outputs": [],
   "source": [
    "a = 'Encylcopedia'\n",
    "print(len(a))\n",
    "print(a[2:8]) # last index is not included"
   ]
  },
  {
   "cell_type": "code",
   "execution_count": null,
   "metadata": {},
   "outputs": [],
   "source": [
    "name = 'Vijay deenanath chauhan'\n",
    "firstname = name[0:5] \n",
    "print(firstname)\n",
    "middlename = name[6:15]\n",
    "print(middlename)\n",
    "lastname = name[16:23]\n",
    "print(lastname)"
   ]
  },
  {
   "cell_type": "code",
   "execution_count": null,
   "metadata": {},
   "outputs": [],
   "source": [
    "name[:5] # first 5 characters"
   ]
  },
  {
   "cell_type": "code",
   "execution_count": null,
   "metadata": {},
   "outputs": [],
   "source": [
    "name[6:] # from 6th idx to end"
   ]
  },
  {
   "cell_type": "code",
   "execution_count": null,
   "metadata": {},
   "outputs": [],
   "source": [
    "name[16:] # from 16th idx to end"
   ]
  },
  {
   "cell_type": "code",
   "execution_count": null,
   "metadata": {},
   "outputs": [],
   "source": [
    "msg = \"Journey Before Destination\"\n",
    "msg[-11:]"
   ]
  },
  {
   "cell_type": "code",
   "execution_count": null,
   "metadata": {},
   "outputs": [],
   "source": [
    "msg = 'Once upon a time, there was a place called eternia'\n",
    "msg[-7:]"
   ]
  },
  {
   "cell_type": "code",
   "execution_count": null,
   "metadata": {},
   "outputs": [],
   "source": [
    "amt = '$800999'\n",
    "amt = int(amt[1:])\n",
    "print(amt)"
   ]
  },
  {
   "cell_type": "code",
   "execution_count": null,
   "metadata": {},
   "outputs": [],
   "source": [
    "msg[::2] # every 2nd character (even index)"
   ]
  },
  {
   "cell_type": "code",
   "execution_count": null,
   "metadata": {},
   "outputs": [],
   "source": [
    "msg[1::2] # every 2nd character (odd index)"
   ]
  },
  {
   "cell_type": "code",
   "execution_count": null,
   "metadata": {},
   "outputs": [],
   "source": [
    "# most OP thing in slicing\n",
    "msg[::-1] # reverse the string"
   ]
  },
  {
   "cell_type": "code",
   "execution_count": null,
   "metadata": {},
   "outputs": [],
   "source": [
    "msg[::-1][:5]"
   ]
  },
  {
   "cell_type": "code",
   "execution_count": null,
   "metadata": {},
   "outputs": [],
   "source": [
    "name[6:15][::-1]"
   ]
  },
  {
   "cell_type": "markdown",
   "metadata": {},
   "source": [
    "String methods\n",
    "- formatting\n",
    "- validation \n",
    "- find & replace \n",
    "- etc."
   ]
  },
  {
   "cell_type": "code",
   "execution_count": null,
   "metadata": {},
   "outputs": [],
   "source": [
    "quote = \"All the glitter is not Gold💛\"\n",
    "quote_upper = quote.upper()\n",
    "quote_lower = quote.lower()\n",
    "quote_capt = quote.capitalize()\n",
    "quote_title = quote.title()\n",
    "quote_swap = quote.swapcase()\n",
    "quote_casefold = quote.casefold()\n",
    "\n",
    "print(quote)\n",
    "print(quote_upper)\n",
    "print(quote_lower)\n",
    "print(quote_capt)\n",
    "print(quote_title)\n",
    "print(quote_swap)\n",
    "print(quote_casefold)"
   ]
  },
  {
   "cell_type": "code",
   "execution_count": null,
   "metadata": {},
   "outputs": [],
   "source": [
    "quote.rjust?"
   ]
  },
  {
   "cell_type": "code",
   "execution_count": null,
   "metadata": {},
   "outputs": [],
   "source": [
    "quote.rjust(50)"
   ]
  },
  {
   "cell_type": "code",
   "execution_count": null,
   "metadata": {},
   "outputs": [],
   "source": [
    "quote.center(50, '-')"
   ]
  },
  {
   "cell_type": "code",
   "execution_count": 53,
   "metadata": {},
   "outputs": [
    {
     "data": {
      "text/plain": [
       "False"
      ]
     },
     "execution_count": 53,
     "metadata": {},
     "output_type": "execute_result"
    }
   ],
   "source": [
    "name.isnumeric()"
   ]
  },
  {
   "cell_type": "code",
   "execution_count": 54,
   "metadata": {},
   "outputs": [
    {
     "name": "stdout",
     "output_type": "stream",
     "text": [
      "What kind of name is this?\n"
     ]
    }
   ],
   "source": [
    "fname = input(\"enter ur name: (dont use numbers)\")\n",
    "if fname.isalpha():\n",
    "    print(\"valid name, very good\")\n",
    "else:\n",
    "    print(\"What kind of name is this?\")"
   ]
  },
  {
   "cell_type": "code",
   "execution_count": 56,
   "metadata": {},
   "outputs": [
    {
     "data": {
      "text/plain": [
       "30"
      ]
     },
     "execution_count": 56,
     "metadata": {},
     "output_type": "execute_result"
    }
   ],
   "source": [
    "# find and index methods for searching in strings\n",
    "msg.find('place')  # returns the index of the first occurence of the substring"
   ]
  },
  {
   "cell_type": "code",
   "execution_count": 64,
   "metadata": {},
   "outputs": [
    {
     "name": "stdout",
     "output_type": "stream",
     "text": [
      "12\n",
      "40\n",
      "-1\n",
      "12\n",
      "75\n"
     ]
    }
   ],
   "source": [
    "data = '''Roshar is a place of magic and wonder, \n",
    "place of knights and kings. \n",
    "Its a place of highstorms and shardblades'''\n",
    "print(data.find('place'))\n",
    "print(data.find('place', 13)) # 13 is the starting index for searching\n",
    "print(data.find('Place')) # -1 means not found\n",
    "print(data.lower().find('place')) # -1 means not found\n",
    "# reverse find\n",
    "print(data.rfind('place')) # returns the index of the last occurence of the substring"
   ]
  },
  {
   "cell_type": "code",
   "execution_count": 66,
   "metadata": {},
   "outputs": [
    {
     "data": {
      "text/plain": [
       "'Roshar is a 🌍 of magic and wonder, \\n🌍 of knights and kings. \\nIts a 🌍 of highstorms and shardblades'"
      ]
     },
     "execution_count": 66,
     "metadata": {},
     "output_type": "execute_result"
    }
   ],
   "source": [
    "# replace method\n",
    "data.replace('place','🌍')"
   ]
  },
  {
   "cell_type": "code",
   "execution_count": 67,
   "metadata": {},
   "outputs": [
    {
     "data": {
      "text/plain": [
       "'Rashar is a place af magic and wander, \\nplace af knights and kings. \\nIts a place af highstarms and shardblades'"
      ]
     },
     "execution_count": 67,
     "metadata": {},
     "output_type": "execute_result"
    }
   ],
   "source": [
    "data.replace('o', 'a')"
   ]
  },
  {
   "cell_type": "code",
   "execution_count": 68,
   "metadata": {},
   "outputs": [
    {
     "data": {
      "text/plain": [
       "'Roshbr es b plbce of mbgec bnd wonder, \\nplbce of cneghts bnd cengs. \\nIts b plbce of heghstorms bnd shbrdblbdes'"
      ]
     },
     "execution_count": 68,
     "metadata": {},
     "output_type": "execute_result"
    }
   ],
   "source": [
    "data.replace('i', 'e').replace('k', 'c').replace('a', 'b')"
   ]
  },
  {
   "cell_type": "code",
   "execution_count": 71,
   "metadata": {},
   "outputs": [
    {
     "name": "stdout",
     "output_type": "stream",
     "text": [
      "Roshar_is_a_place of magic and wonder, \n",
      "place of knights and kings. \n",
      "Its a place of highstorms and shardblades\n"
     ]
    }
   ],
   "source": [
    "print(data.replace(' ', '_', 3))"
   ]
  },
  {
   "cell_type": "code",
   "execution_count": null,
   "metadata": {},
   "outputs": [],
   "source": []
  }
 ],
 "metadata": {
  "kernelspec": {
   "display_name": "base",
   "language": "python",
   "name": "python3"
  },
  "language_info": {
   "codemirror_mode": {
    "name": "ipython",
    "version": 3
   },
   "file_extension": ".py",
   "mimetype": "text/x-python",
   "name": "python",
   "nbconvert_exporter": "python",
   "pygments_lexer": "ipython3",
   "version": "3.12.2"
  }
 },
 "nbformat": 4,
 "nbformat_minor": 2
}

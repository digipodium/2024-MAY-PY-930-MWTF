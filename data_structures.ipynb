{
 "cells": [
  {
   "cell_type": "markdown",
   "metadata": {},
   "source": [
    "# list\n",
    "- creating\n",
    "- indexing n slicing (same as string)\n",
    "- methods\n",
    "- comprehension"
   ]
  },
  {
   "cell_type": "code",
   "execution_count": null,
   "metadata": {},
   "outputs": [],
   "source": [
    "a = []                                                  # empty list\n",
    "b = [1,2,3,4]                                           # numerical list\n",
    "c = ['apple', 'banana', 'cherry']                       # string list\n",
    "d = ['apple', 1, 'banana', 2, 'cherry', 3]              # mixed list\n",
    "e = [[1,2,3],[4,5,6],[7,8,9]]                           # list of lists\n",
    "f = [['apple', 1], ['banana', 2], ['cherry', 3, 120]]   # mixed nested list\n",
    "print(a)\n",
    "print(b)\n",
    "print(c)\n",
    "print(d)\n",
    "print(e)\n",
    "print(f)"
   ]
  },
  {
   "cell_type": "code",
   "execution_count": null,
   "metadata": {},
   "outputs": [],
   "source": [
    "for i in c:\n",
    "    print(i)\n",
    "for i in d:\n",
    "    print(i)\n",
    "for i in e:\n",
    "    print(i)\n",
    "for i in f:\n",
    "    print(i)"
   ]
  },
  {
   "cell_type": "code",
   "execution_count": null,
   "metadata": {},
   "outputs": [],
   "source": [
    "g = list('hello')\n",
    "h = list(range(10))\n",
    "i = list((1,2,3,4,5))\n",
    "j = [1,2,3] * 5            # duplicated list\n",
    "print(g)\n",
    "print(h)\n",
    "print(i)\n",
    "print(j)"
   ]
  },
  {
   "cell_type": "code",
   "execution_count": null,
   "metadata": {},
   "outputs": [],
   "source": [
    "movies = ['Kung Fu Panda', 'Wish Dragon', \n",
    "          'The Croods', 'Moana', 'Invincible']\n",
    "print(movies)\n",
    "print(len(movies))\n",
    "print(\"first movie: \",movies[0])\n",
    "print(\"last movie: \",movies[-1])\n",
    "print(\"second movie: \",movies[1])\n",
    "print(\"third movie: \",movies[2])"
   ]
  },
  {
   "cell_type": "code",
   "execution_count": null,
   "metadata": {},
   "outputs": [],
   "source": [
    "numbers = [1,2,3,4,5,6,7,8,9,10]\n",
    "print(numbers[:3]) # 0, 1, 2\n",
    "print(numbers[-3:]) # 8, 9, 10\n",
    "print(numbers[2:-2]) # everthing except first two and last two\n",
    "print(numbers[::-1])"
   ]
  },
  {
   "cell_type": "markdown",
   "metadata": {},
   "source": [
    "### list methods (11)\n",
    "- adding/updating\n",
    "  - `append()`\n",
    "  - `extend()`\n",
    "  - `insert()`\n",
    "- removing/deleting\n",
    "  - `remove()`\n",
    "  - `pop()`\n",
    "  - `clear()`\n",
    "- utility\n",
    "  - `sort()`\n",
    "  - `reverse()`\n",
    "  - `index()`\n",
    "  - `count()`\n",
    "  - `copy()`"
   ]
  },
  {
   "cell_type": "code",
   "execution_count": null,
   "metadata": {},
   "outputs": [],
   "source": [
    "fav_books = []\n",
    "hated_books = []\n",
    "for i in range(5):\n",
    "    book = input(\"Enter your favorite book: \")\n",
    "    fav_books.append(book)\n",
    "for i in range(3):\n",
    "    book = input(\"Enter your hated book: \")\n",
    "    hated_books.append(book)\n",
    "    \n",
    "print(\"Favorite books: \", fav_books)\n",
    "print(\"Hated books: \", hated_books)"
   ]
  },
  {
   "cell_type": "code",
   "execution_count": null,
   "metadata": {},
   "outputs": [],
   "source": [
    "hated_books.append(\"Julius Caesar\") # add to the end\n",
    "print(hated_books)"
   ]
  },
  {
   "cell_type": "code",
   "execution_count": null,
   "metadata": {},
   "outputs": [],
   "source": [
    "# merge two lists and create a new list\n",
    "books = fav_books + hated_books\n",
    "print(books)"
   ]
  },
  {
   "cell_type": "code",
   "execution_count": null,
   "metadata": {},
   "outputs": [],
   "source": [
    "# adding a list to existing list \n",
    "books.extend(['Legion', 'Rithmatist','Steelheart'])\n",
    "print(books)\n",
    "print('total books: ', len(books))"
   ]
  },
  {
   "cell_type": "code",
   "execution_count": null,
   "metadata": {},
   "outputs": [],
   "source": [
    "books.append(['Diary of a Wimpy Kid', 'Harry Potter']) # nesting\n",
    "print(books)"
   ]
  },
  {
   "cell_type": "code",
   "execution_count": null,
   "metadata": {},
   "outputs": [],
   "source": [
    "books.insert(1, 'The well of Ascension') # insert at index 1\n",
    "books"
   ]
  },
  {
   "cell_type": "code",
   "execution_count": null,
   "metadata": {},
   "outputs": [],
   "source": [
    "books[10] = 'Pygmalion' # replace at index 10\n",
    "books"
   ]
  },
  {
   "cell_type": "code",
   "execution_count": null,
   "metadata": {},
   "outputs": [],
   "source": [
    "books.remove(\"Steelheart\") # remove by value"
   ]
  },
  {
   "cell_type": "code",
   "execution_count": null,
   "metadata": {},
   "outputs": [],
   "source": [
    "books.pop(7) # remove by index"
   ]
  },
  {
   "cell_type": "code",
   "execution_count": null,
   "metadata": {},
   "outputs": [],
   "source": [
    "books.pop() # remove last element"
   ]
  },
  {
   "cell_type": "code",
   "execution_count": 43,
   "metadata": {},
   "outputs": [
    {
     "data": {
      "text/plain": [
       "[]"
      ]
     },
     "execution_count": 43,
     "metadata": {},
     "output_type": "execute_result"
    }
   ],
   "source": [
    "hated_books.clear() # remove all elements\n",
    "hated_books"
   ]
  },
  {
   "cell_type": "markdown",
   "metadata": {},
   "source": [
    "#### wap to create an empty list, then fill the list with 10 prime numbers using a loop, starting with 2"
   ]
  },
  {
   "cell_type": "code",
   "execution_count": null,
   "metadata": {},
   "outputs": [],
   "source": []
  }
 ],
 "metadata": {
  "kernelspec": {
   "display_name": "base",
   "language": "python",
   "name": "python3"
  },
  "language_info": {
   "codemirror_mode": {
    "name": "ipython",
    "version": 3
   },
   "file_extension": ".py",
   "mimetype": "text/x-python",
   "name": "python",
   "nbconvert_exporter": "python",
   "pygments_lexer": "ipython3",
   "version": "3.12.2"
  }
 },
 "nbformat": 4,
 "nbformat_minor": 2
}

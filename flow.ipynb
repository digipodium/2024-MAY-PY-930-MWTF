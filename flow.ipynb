{
 "cells": [
  {
   "cell_type": "markdown",
   "metadata": {},
   "source": [
    "programming flow\n",
    "- conditional flow\n",
    "  - if\n",
    "  - if else\n",
    "  - if elif else\n",
    "  - match case\n",
    "- iterative flow\n",
    "  - for loop\n",
    "  - while loop"
   ]
  },
  {
   "cell_type": "code",
   "execution_count": null,
   "metadata": {},
   "outputs": [],
   "source": [
    "if 'hello':\n",
    "    print('hello everyone')"
   ]
  },
  {
   "cell_type": "code",
   "execution_count": null,
   "metadata": {},
   "outputs": [],
   "source": [
    "x = 'hello'\n",
    "if len(x) >= 5: \n",
    "    print('hello everyone')"
   ]
  },
  {
   "cell_type": "code",
   "execution_count": null,
   "metadata": {},
   "outputs": [],
   "source": [
    "a = int(input('Enter a number: '))\n",
    "if a * 2 > 100:\n",
    "    print('a * 2 is greater than 100')\n",
    "if a + 50 > 150:\n",
    "    print('a + 50 is greater than 150')"
   ]
  },
  {
   "cell_type": "code",
   "execution_count": null,
   "metadata": {},
   "outputs": [],
   "source": [
    "x = int(input('Enter a number: '))\n",
    "if x % 2 == 0:\n",
    "    print('x is even')\n",
    "else:\n",
    "    print('x is odd')"
   ]
  },
  {
   "cell_type": "markdown",
   "metadata": {},
   "source": [
    "wap to find out the total salary of the employee based on the following data\n",
    "```\n",
    "salary : user inputted\n",
    "hra = 5%\n",
    "da = 3.3 %\n",
    "ta = 2.61 %\n",
    "```\n",
    "\n",
    "`total = salary + da + ta + hra`\n",
    "\n",
    "*rule*\n",
    "`if hra is less than 1000 then dont add hra to total`"
   ]
  },
  {
   "cell_type": "code",
   "execution_count": null,
   "metadata": {},
   "outputs": [],
   "source": [
    "name = input(\"What movie did you watch?\")\n",
    "num_str = input('Enter movie rating')\n",
    "if num_str.isnumeric():\n",
    "    num = int(num_str)\n",
    "    print(f\"Movie: {name}\")\n",
    "    if num == 1:\n",
    "        print('⭐ (terrible)')\n",
    "    elif num == 2:\n",
    "        print('⭐⭐ (bad)')\n",
    "    elif num == 3:\n",
    "        print('⭐⭐⭐ (average)')\n",
    "    elif num == 4:\n",
    "        print('⭐⭐⭐⭐ (good)')\n",
    "    elif num == 5:\n",
    "        print('⭐⭐⭐⭐⭐ (excellent)')\n",
    "    else:\n",
    "        print('⚠️ Invalid rating ⚠️')\n",
    "else:\n",
    "    print('You are stupid, just watch movies')"
   ]
  },
  {
   "cell_type": "code",
   "execution_count": null,
   "metadata": {},
   "outputs": [],
   "source": [
    "# match case - use this to match multiple values\n",
    "day = input('Enter a day of the week: ')\n",
    "match day.lower():\n",
    "    case 'monday'|'tuesday'|'wednesday'|'friday':\n",
    "        print('Data science/Data analysis class')\n",
    "    case 'thursday':\n",
    "        print('Class Off')\n",
    "    case 'saturday'|'sunday':\n",
    "        print('Weekend (no class)')\n",
    "    case _: # default case\n",
    "        print('Invalid day')\n",
    "    "
   ]
  },
  {
   "cell_type": "markdown",
   "metadata": {},
   "source": [
    "### single line condition"
   ]
  },
  {
   "cell_type": "code",
   "execution_count": null,
   "metadata": {},
   "outputs": [],
   "source": [
    "x = int(input('Enter a number: '))\n",
    "print(\"above 100\") if x > 100 else print(\"below 100\" )"
   ]
  },
  {
   "cell_type": "markdown",
   "metadata": {},
   "source": [
    "#### for loop\n",
    "- step based\n",
    "- traversal \n",
    "```\n",
    "for var in iterable:\n",
    "    statement...\n",
    "```\n",
    "#### while loop\n",
    "- condition based"
   ]
  },
  {
   "cell_type": "code",
   "execution_count": null,
   "metadata": {},
   "outputs": [],
   "source": [
    "for v in 'helloooo':\n",
    "    print(v)"
   ]
  },
  {
   "cell_type": "code",
   "execution_count": null,
   "metadata": {},
   "outputs": [],
   "source": [
    "colors = ['red', 'green', 'blue']\n",
    "for i in colors:\n",
    "    print(i)"
   ]
  },
  {
   "cell_type": "code",
   "execution_count": null,
   "metadata": {},
   "outputs": [],
   "source": [
    "# index and value\n",
    "for i, v in enumerate(colors):\n",
    "    print(i, v)"
   ]
  },
  {
   "cell_type": "code",
   "execution_count": null,
   "metadata": {},
   "outputs": [],
   "source": [
    "numlist = [12,56,7,2,6,10,20]\n",
    "for num in numlist:\n",
    "    print(f'{num:<2} => {num * 10:<3}')"
   ]
  },
  {
   "cell_type": "code",
   "execution_count": null,
   "metadata": {},
   "outputs": [],
   "source": [
    "# rookie way\n",
    "seq = [1,2,3,4,5,6,7,8,9,10]\n",
    "num = 13\n",
    "for i in seq:\n",
    "    print(f'{num} * {i} = {num * i}')"
   ]
  },
  {
   "cell_type": "markdown",
   "metadata": {},
   "source": [
    "range(value) => `start from 0 go till value - 1`\n",
    "\n",
    "range(a, b) => `start from a go till b-1`\n",
    "\n",
    "range(a, b, c) => `start from a go till b-1 with c as step (gap) `"
   ]
  },
  {
   "cell_type": "code",
   "execution_count": null,
   "metadata": {},
   "outputs": [],
   "source": [
    "num = 13\n",
    "for i in range(10,101, 5):\n",
    "    print(f'{num} * {i} = {num * i}')"
   ]
  },
  {
   "cell_type": "code",
   "execution_count": null,
   "metadata": {},
   "outputs": [],
   "source": [
    "# only even numbers\n",
    "for i in range(0, 101, 2):\n",
    "    print(i)"
   ]
  },
  {
   "cell_type": "code",
   "execution_count": 51,
   "metadata": {},
   "outputs": [
    {
     "name": "stdout",
     "output_type": "stream",
     "text": [
      "10\n",
      "9\n",
      "8\n",
      "7\n",
      "6\n",
      "5\n",
      "4\n",
      "3\n",
      "2\n",
      "1\n"
     ]
    }
   ],
   "source": [
    "# reverse loop\n",
    "for i in range(10, 0, -1):\n",
    "    print(i)"
   ]
  },
  {
   "cell_type": "code",
   "execution_count": null,
   "metadata": {},
   "outputs": [],
   "source": []
  }
 ],
 "metadata": {
  "kernelspec": {
   "display_name": "base",
   "language": "python",
   "name": "python3"
  },
  "language_info": {
   "codemirror_mode": {
    "name": "ipython",
    "version": 3
   },
   "file_extension": ".py",
   "mimetype": "text/x-python",
   "name": "python",
   "nbconvert_exporter": "python",
   "pygments_lexer": "ipython3",
   "version": "3.12.2"
  }
 },
 "nbformat": 4,
 "nbformat_minor": 2
}
